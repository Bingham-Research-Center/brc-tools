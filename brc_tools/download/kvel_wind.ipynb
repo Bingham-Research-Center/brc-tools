{
 "cells": [
  {
   "metadata": {
    "ExecuteTime": {
     "end_time": "2025-07-24T17:56:16.266019Z",
     "start_time": "2025-07-24T17:56:14.310678Z"
    }
   },
   "cell_type": "code",
   "source": [
    "import os\n",
    "import sys\n",
    "import datetime\n",
    "import pytz\n",
    "import json\n",
    "\n",
    "import numpy as np\n",
    "from scipy.signal import medfilt\n",
    "import matplotlib.pyplot as plt\n",
    "import polars as pl\n",
    "import pandas as pd\n",
    "\n",
    "import synoptic"
   ],
   "id": "59efacedb68b880f",
   "outputs": [],
   "execution_count": 1
  },
  {
   "cell_type": "code",
   "id": "initial_id",
   "metadata": {
    "collapsed": true,
    "ExecuteTime": {
     "end_time": "2025-07-24T17:56:16.352313Z",
     "start_time": "2025-07-24T17:56:16.350004Z"
    }
   },
   "source": [
    "# Download KVEL data to look for strong wind events\n",
    "stid_list = ['KVEL']\n",
    "# start_date = datetime.datetime(2025, 6, 1, 0, 0, 0, tzinfo=pytz.UTC)\n",
    "start_date = datetime.datetime(2018, 7, 1, 0, 0, 0, tzinfo=pytz.UTC)\n",
    "end_date = datetime.datetime(2022, 7, 1, 0, 0, 0, tzinfo=pytz.UTC)\n",
    "synoptic_vrbls = ['wind_speed', 'wind_direction', 'air_temp', 'dew_point_temperature', 'pressure',\n",
    "                  # 'wind_gust',\n",
    "                  # 'wind_gust_set_1'\n",
    "                  ]"
   ],
   "outputs": [],
   "execution_count": 2
  },
  {
   "metadata": {
    "ExecuteTime": {
     "end_time": "2025-07-24T17:56:32.857530Z",
     "start_time": "2025-07-24T17:56:16.377752Z"
    }
   },
   "cell_type": "code",
   "source": [
    "print(\"Downloading time series data...\")\n",
    "df_data = synoptic.TimeSeries(stid=stid_list, start=start_date, end=end_date,\n",
    "                              vars=synoptic_vrbls, verbose=True,\n",
    "                              # rename_set_1=False, rename_value_1=False,\n",
    "                              ).df().synoptic.pivot()\n",
    "print(\"Downloaded time series data.\")\n",
    "df_data.head(10)"
   ],
   "id": "8376ffb6ea942803",
   "outputs": [
    {
     "name": "stdout",
     "output_type": "stream",
     "text": [
      "Downloading time series data...\n",
      "🚚💨 Speedy delivery from Synoptic's \u001B[32mtimeseries\u001B[0m service.\n",
      "📦 Received data from \u001B[36m1\u001B[0m stations (14.04 seconds).\n",
      "Downloaded time series data.\n"
     ]
    },
    {
     "data": {
      "text/plain": [
       "shape: (10, 10)\n",
       "┌─────────────┬──────┬──────────┬────────────┬───┬────────────┬────────────┬────────────┬──────────┐\n",
       "│ date_time   ┆ stid ┆ latitude ┆ longitude  ┆ … ┆ wind_direc ┆ wind_speed ┆ dew_point_ ┆ pressure │\n",
       "│ ---         ┆ ---  ┆ ---      ┆ ---        ┆   ┆ tion       ┆ ---        ┆ temperatur ┆ ---      │\n",
       "│ datetime[μs ┆ str  ┆ f64      ┆ f64        ┆   ┆ ---        ┆ f64        ┆ e          ┆ f64      │\n",
       "│ , UTC]      ┆      ┆          ┆            ┆   ┆ f64        ┆            ┆ ---        ┆          │\n",
       "│             ┆      ┆          ┆            ┆   ┆            ┆            ┆ f64        ┆          │\n",
       "╞═════════════╪══════╪══════════╪════════════╪═══╪════════════╪════════════╪════════════╪══════════╡\n",
       "│ 2018-07-01  ┆ KVEL ┆ 40.44295 ┆ -109.51273 ┆ … ┆ 90.0       ┆ 2.06       ┆ -5.83      ┆ 83777.98 │\n",
       "│ 00:00:00    ┆      ┆          ┆            ┆   ┆            ┆            ┆            ┆          │\n",
       "│ UTC         ┆      ┆          ┆            ┆   ┆            ┆            ┆            ┆          │\n",
       "│ 2018-07-01  ┆ KVEL ┆ 40.44295 ┆ -109.51273 ┆ … ┆ 0.0        ┆ 0.0        ┆ -5.86      ┆ 83777.98 │\n",
       "│ 00:05:00    ┆      ┆          ┆            ┆   ┆            ┆            ┆            ┆          │\n",
       "│ UTC         ┆      ┆          ┆            ┆   ┆            ┆            ┆            ┆          │\n",
       "│ 2018-07-01  ┆ KVEL ┆ 40.44295 ┆ -109.51273 ┆ … ┆ 70.0       ┆ 2.57       ┆ -4.87      ┆ 83777.98 │\n",
       "│ 00:10:00    ┆      ┆          ┆            ┆   ┆            ┆            ┆            ┆          │\n",
       "│ UTC         ┆      ┆          ┆            ┆   ┆            ┆            ┆            ┆          │\n",
       "│ 2018-07-01  ┆ KVEL ┆ 40.44295 ┆ -109.51273 ┆ … ┆ 110.0      ┆ 2.57       ┆ -5.86      ┆ 83777.98 │\n",
       "│ 00:15:00    ┆      ┆          ┆            ┆   ┆            ┆            ┆            ┆          │\n",
       "│ UTC         ┆      ┆          ┆            ┆   ┆            ┆            ┆            ┆          │\n",
       "│ 2018-07-01  ┆ KVEL ┆ 40.44295 ┆ -109.51273 ┆ … ┆ 80.0       ┆ 2.06       ┆ -5.86      ┆ 83777.98 │\n",
       "│ 00:20:00    ┆      ┆          ┆            ┆   ┆            ┆            ┆            ┆          │\n",
       "│ UTC         ┆      ┆          ┆            ┆   ┆            ┆            ┆            ┆          │\n",
       "│ 2018-07-01  ┆ KVEL ┆ 40.44295 ┆ -109.51273 ┆ … ┆ 20.0       ┆ 1.54       ┆ -5.86      ┆ 83777.98 │\n",
       "│ 00:25:00    ┆      ┆          ┆            ┆   ┆            ┆            ┆            ┆          │\n",
       "│ UTC         ┆      ┆          ┆            ┆   ┆            ┆            ┆            ┆          │\n",
       "│ 2018-07-01  ┆ KVEL ┆ 40.44295 ┆ -109.51273 ┆ … ┆ 0.0        ┆ 0.0        ┆ -4.87      ┆ 83777.98 │\n",
       "│ 00:30:00    ┆      ┆          ┆            ┆   ┆            ┆            ┆            ┆          │\n",
       "│ UTC         ┆      ┆          ┆            ┆   ┆            ┆            ┆            ┆          │\n",
       "│ 2018-07-01  ┆ KVEL ┆ 40.44295 ┆ -109.51273 ┆ … ┆ 20.0       ┆ 4.12       ┆ -3.88      ┆ 83805.89 │\n",
       "│ 00:35:00    ┆      ┆          ┆            ┆   ┆            ┆            ┆            ┆          │\n",
       "│ UTC         ┆      ┆          ┆            ┆   ┆            ┆            ┆            ┆          │\n",
       "│ 2018-07-01  ┆ KVEL ┆ 40.44295 ┆ -109.51273 ┆ … ┆ 50.0       ┆ 6.17       ┆ -3.88      ┆ 83777.98 │\n",
       "│ 00:40:00    ┆      ┆          ┆            ┆   ┆            ┆            ┆            ┆          │\n",
       "│ UTC         ┆      ┆          ┆            ┆   ┆            ┆            ┆            ┆          │\n",
       "│ 2018-07-01  ┆ KVEL ┆ 40.44295 ┆ -109.51273 ┆ … ┆ 20.0       ┆ 6.69       ┆ -2.89      ┆ 83777.98 │\n",
       "│ 00:45:00    ┆      ┆          ┆            ┆   ┆            ┆            ┆            ┆          │\n",
       "│ UTC         ┆      ┆          ┆            ┆   ┆            ┆            ┆            ┆          │\n",
       "└─────────────┴──────┴──────────┴────────────┴───┴────────────┴────────────┴────────────┴──────────┘"
      ],
      "text/html": [
       "<div><style>\n",
       ".dataframe > thead > tr,\n",
       ".dataframe > tbody > tr {\n",
       "  text-align: right;\n",
       "  white-space: pre-wrap;\n",
       "}\n",
       "</style>\n",
       "<small>shape: (10, 10)</small><table border=\"1\" class=\"dataframe\"><thead><tr><th>date_time</th><th>stid</th><th>latitude</th><th>longitude</th><th>elevation</th><th>air_temp</th><th>wind_direction</th><th>wind_speed</th><th>dew_point_temperature</th><th>pressure</th></tr><tr><td>datetime[μs, UTC]</td><td>str</td><td>f64</td><td>f64</td><td>f64</td><td>f64</td><td>f64</td><td>f64</td><td>f64</td><td>f64</td></tr></thead><tbody><tr><td>2018-07-01 00:00:00 UTC</td><td>&quot;KVEL&quot;</td><td>40.44295</td><td>-109.51273</td><td>5262.0</td><td>29.0</td><td>90.0</td><td>2.06</td><td>-5.83</td><td>83777.98</td></tr><tr><td>2018-07-01 00:05:00 UTC</td><td>&quot;KVEL&quot;</td><td>40.44295</td><td>-109.51273</td><td>5262.0</td><td>28.0</td><td>0.0</td><td>0.0</td><td>-5.86</td><td>83777.98</td></tr><tr><td>2018-07-01 00:10:00 UTC</td><td>&quot;KVEL&quot;</td><td>40.44295</td><td>-109.51273</td><td>5262.0</td><td>28.0</td><td>70.0</td><td>2.57</td><td>-4.87</td><td>83777.98</td></tr><tr><td>2018-07-01 00:15:00 UTC</td><td>&quot;KVEL&quot;</td><td>40.44295</td><td>-109.51273</td><td>5262.0</td><td>28.0</td><td>110.0</td><td>2.57</td><td>-5.86</td><td>83777.98</td></tr><tr><td>2018-07-01 00:20:00 UTC</td><td>&quot;KVEL&quot;</td><td>40.44295</td><td>-109.51273</td><td>5262.0</td><td>28.0</td><td>80.0</td><td>2.06</td><td>-5.86</td><td>83777.98</td></tr><tr><td>2018-07-01 00:25:00 UTC</td><td>&quot;KVEL&quot;</td><td>40.44295</td><td>-109.51273</td><td>5262.0</td><td>28.0</td><td>20.0</td><td>1.54</td><td>-5.86</td><td>83777.98</td></tr><tr><td>2018-07-01 00:30:00 UTC</td><td>&quot;KVEL&quot;</td><td>40.44295</td><td>-109.51273</td><td>5262.0</td><td>28.0</td><td>0.0</td><td>0.0</td><td>-4.87</td><td>83777.98</td></tr><tr><td>2018-07-01 00:35:00 UTC</td><td>&quot;KVEL&quot;</td><td>40.44295</td><td>-109.51273</td><td>5262.0</td><td>28.0</td><td>20.0</td><td>4.12</td><td>-3.88</td><td>83805.89</td></tr><tr><td>2018-07-01 00:40:00 UTC</td><td>&quot;KVEL&quot;</td><td>40.44295</td><td>-109.51273</td><td>5262.0</td><td>28.0</td><td>50.0</td><td>6.17</td><td>-3.88</td><td>83777.98</td></tr><tr><td>2018-07-01 00:45:00 UTC</td><td>&quot;KVEL&quot;</td><td>40.44295</td><td>-109.51273</td><td>5262.0</td><td>28.0</td><td>20.0</td><td>6.69</td><td>-2.89</td><td>83777.98</td></tr></tbody></table></div>"
      ]
     },
     "execution_count": 3,
     "metadata": {},
     "output_type": "execute_result"
    }
   ],
   "execution_count": 3
  },
  {
   "metadata": {
    "ExecuteTime": {
     "end_time": "2025-07-24T17:56:32.908944Z",
     "start_time": "2025-07-24T17:56:32.899289Z"
    }
   },
   "cell_type": "code",
   "source": [
    "import numpy as np\n",
    "\n",
    "# Print wind speed percentiles\n",
    "wind_speed = df_data['wind_speed'].to_numpy()\n",
    "percentiles = [100, 99, 98, 97, 96, 95]\n",
    "ws_percentile_values = np.percentile(wind_speed[~np.isnan(wind_speed)], percentiles)\n",
    "\n",
    "for p, v in zip(percentiles, ws_percentile_values):\n",
    "    print(f\"Wind speed at {p}th percentile: {v:.2f}\")"
   ],
   "id": "1a9a3c5d134601d2",
   "outputs": [
    {
     "name": "stdout",
     "output_type": "stream",
     "text": [
      "Wind speed at 100th percentile: 18.52\n",
      "Wind speed at 99th percentile: 9.77\n",
      "Wind speed at 98th percentile: 8.75\n",
      "Wind speed at 97th percentile: 7.72\n",
      "Wind speed at 96th percentile: 7.20\n",
      "Wind speed at 95th percentile: 6.69\n"
     ]
    }
   ],
   "execution_count": 4
  },
  {
   "metadata": {
    "ExecuteTime": {
     "end_time": "2025-07-24T17:56:32.973820Z",
     "start_time": "2025-07-24T17:56:32.971524Z"
    }
   },
   "cell_type": "code",
   "source": [
    "\n",
    "# Function to find periods where wind speed exceeds a given percentile\n",
    "def find_consecutive_periods(df, col, threshold, min_length=1):\n",
    "    \"\"\"\n",
    "    Returns list of (start_idx, end_idx) for periods where df[col] > threshold\n",
    "    and periods are at least min_length long.\n",
    "    \"\"\"\n",
    "    mask = df[col] > threshold\n",
    "    periods = []\n",
    "    start = None\n",
    "    for i, val in enumerate(mask):\n",
    "        if val and start is None:\n",
    "            start = i\n",
    "        elif not val and start is not None:\n",
    "            if i - start >= min_length:\n",
    "                periods.append((start, i-1))\n",
    "            start = None\n",
    "    if start is not None and len(df) - start >= min_length:\n",
    "        periods.append((start, len(df)-1))\n",
    "    return periods"
   ],
   "id": "cd0d4b0b2e3542a3",
   "outputs": [],
   "execution_count": 5
  },
  {
   "metadata": {
    "ExecuteTime": {
     "end_time": "2025-07-24T17:56:33.063710Z",
     "start_time": "2025-07-24T17:56:33.039281Z"
    }
   },
   "cell_type": "code",
   "source": [
    "\n",
    "threshold = np.percentile(wind_speed[~np.isnan(wind_speed)], 99)\n",
    "# TODO fix - Using int length not generalisable to different reporting intervals\n",
    "periods = find_consecutive_periods(df_data, 'wind_speed', threshold, min_length=10)\n",
    "print(\"Consecutive periods where wind speed exceeds 99th percentile:\", periods)"
   ],
   "id": "668de0fa27ddb6c7",
   "outputs": [
    {
     "name": "stdout",
     "output_type": "stream",
     "text": [
      "Consecutive periods where wind speed exceeds 99th percentile: [(10264, 10276), (26562, 26572), (90148, 90163), (93900, 93915), (94459, 94469), (94471, 94480), (94482, 94498), (94521, 94539), (129205, 129214), (131306, 131315), (135604, 135615), (138434, 138444), (141902, 141913), (141915, 141951), (142015, 142026), (142116, 142125), (142172, 142184), (143793, 143832), (145341, 145356), (151571, 151584), (151587, 151599), (220898, 220909), (223035, 223047), (249893, 249929), (249931, 249959), (250096, 250106), (250109, 250119), (250121, 250136), (260958, 261002), (261768, 261779), (263204, 263224), (264145, 264180), (264182, 264215), (289552, 289577), (294578, 294601), (294605, 294614), (296444, 296453), (296455, 296470), (299202, 299230), (299245, 299260), (301519, 301528), (302271, 302288), (305642, 305654), (305656, 305667), (305669, 305682), (305712, 305732), (305740, 305751), (307548, 307558), (307768, 307783), (307802, 307814), (307861, 307872), (311540, 311550), (324853, 324881), (339596, 339606), (339608, 339620), (415708, 415719), (415721, 415732), (415738, 415754), (417343, 417353), (422638, 422660), (425791, 425880)]\n"
     ]
    }
   ],
   "execution_count": 6
  },
  {
   "metadata": {
    "ExecuteTime": {
     "end_time": "2025-07-24T17:56:33.082293Z",
     "start_time": "2025-07-24T17:56:33.080015Z"
    }
   },
   "cell_type": "code",
   "source": [
    "period_starts = [df_data['date_time'][start] for start, _ in periods]\n",
    "print(\"Start dates of periods where wind speed exceeds 99th percentile:\")\n",
    "for start in period_starts:\n",
    "    print(start)"
   ],
   "id": "3a9ddda2304fbd0a",
   "outputs": [
    {
     "name": "stdout",
     "output_type": "stream",
     "text": [
      "Start dates of periods where wind speed exceeds 99th percentile:\n",
      "2018-08-02 21:15:00+00:00\n",
      "2018-09-24 20:40:00+00:00\n",
      "2019-04-14 22:55:00+00:00\n",
      "2019-04-26 23:40:00+00:00\n",
      "2019-04-28 18:35:00+00:00\n",
      "2019-04-28 19:30:00+00:00\n",
      "2019-04-28 20:20:00+00:00\n",
      "2019-04-28 23:20:00+00:00\n",
      "2019-08-17 22:25:00+00:00\n",
      "2019-08-25 22:35:00+00:00\n",
      "2019-09-08 17:18:00+00:00\n",
      "2019-09-17 17:40:00+00:00\n",
      "2019-09-28 21:05:00+00:00\n",
      "2019-09-28 22:05:00+00:00\n",
      "2019-09-29 05:50:00+00:00\n",
      "2019-09-29 13:30:00+00:00\n",
      "2019-09-29 17:40:00+00:00\n",
      "2019-10-04 22:10:00+00:00\n",
      "2019-10-09 21:25:00+00:00\n",
      "2019-10-29 19:10:00+00:00\n",
      "2019-10-29 20:45:00+00:00\n",
      "2020-06-06 20:25:00+00:00\n",
      "2020-06-13 16:40:00+00:00\n",
      "2020-09-08 04:50:00+00:00\n",
      "2020-09-08 07:25:00+00:00\n",
      "2020-09-08 20:05:00+00:00\n",
      "2020-09-08 21:05:00+00:00\n",
      "2020-09-08 22:00:00+00:00\n",
      "2020-10-14 19:50:00+00:00\n",
      "2020-10-17 22:15:00+00:00\n",
      "2020-10-22 18:10:00+00:00\n",
      "2020-10-25 18:20:00+00:00\n",
      "2020-10-25 21:10:00+00:00\n",
      "2021-02-26 20:45:00+00:00\n",
      "2021-03-14 19:30:00+00:00\n",
      "2021-03-14 21:40:00+00:00\n",
      "2021-03-20 20:45:00+00:00\n",
      "2021-03-20 21:35:00+00:00\n",
      "2021-03-29 18:00:00+00:00\n",
      "2021-03-29 22:35:00+00:00\n",
      "2021-04-06 09:30:00+00:00\n",
      "2021-04-08 23:40:00+00:00\n",
      "2021-04-19 20:00:00+00:00\n",
      "2021-04-19 21:05:00+00:00\n",
      "2021-04-19 22:05:00+00:00\n",
      "2021-04-20 01:25:00+00:00\n",
      "2021-04-20 03:35:00+00:00\n",
      "2021-04-25 23:30:00+00:00\n",
      "2021-04-26 16:25:00+00:00\n",
      "2021-04-26 19:00:00+00:00\n",
      "2021-04-26 23:35:00+00:00\n",
      "2021-05-08 22:53:00+00:00\n",
      "2021-06-20 20:07:00+00:00\n",
      "2021-08-07 00:35:00+00:00\n",
      "2021-08-07 01:30:00+00:00\n",
      "2022-04-15 17:15:00+00:00\n",
      "2022-04-15 18:15:00+00:00\n",
      "2022-04-15 19:35:00+00:00\n",
      "2022-04-22 17:30:00+00:00\n",
      "2022-05-09 16:05:00+00:00\n",
      "2022-05-19 18:25:00+00:00\n"
     ]
    }
   ],
   "execution_count": 7
  },
  {
   "metadata": {
    "ExecuteTime": {
     "end_time": "2025-07-24T17:56:33.104617Z",
     "start_time": "2025-07-24T17:56:33.101591Z"
    }
   },
   "cell_type": "code",
   "source": [
    "import polars as pl\n",
    "\n",
    "# Collect start and end times for each period\n",
    "events = []\n",
    "for start, end in periods:\n",
    "    start_time = df_data['date_time'][start]\n",
    "    end_time = df_data['date_time'][end]\n",
    "    duration = (end_time - start_time).total_seconds() / 60  # duration in minutes\n",
    "    events.append({\"start_time\": start_time, \"end_time\": end_time, \"duration_minutes\": duration})\n",
    "\n",
    "# Create a Polars DataFrame for the events\n",
    "events_df = pl.DataFrame(events)\n",
    "\n",
    "# Display the \"calendar of events\"\n",
    "print(events_df)"
   ],
   "id": "17d317779d4eadd",
   "outputs": [
    {
     "name": "stdout",
     "output_type": "stream",
     "text": [
      "shape: (61, 3)\n",
      "┌─────────────────────────┬─────────────────────────┬──────────────────┐\n",
      "│ start_time              ┆ end_time                ┆ duration_minutes │\n",
      "│ ---                     ┆ ---                     ┆ ---              │\n",
      "│ datetime[μs, UTC]       ┆ datetime[μs, UTC]       ┆ f64              │\n",
      "╞═════════════════════════╪═════════════════════════╪══════════════════╡\n",
      "│ 2018-08-02 21:15:00 UTC ┆ 2018-08-02 22:10:00 UTC ┆ 55.0             │\n",
      "│ 2018-09-24 20:40:00 UTC ┆ 2018-09-24 21:25:00 UTC ┆ 45.0             │\n",
      "│ 2019-04-14 22:55:00 UTC ┆ 2019-04-15 00:05:00 UTC ┆ 70.0             │\n",
      "│ 2019-04-26 23:40:00 UTC ┆ 2019-04-27 00:50:00 UTC ┆ 70.0             │\n",
      "│ 2019-04-28 18:35:00 UTC ┆ 2019-04-28 19:20:00 UTC ┆ 45.0             │\n",
      "│ …                       ┆ …                       ┆ …                │\n",
      "│ 2022-04-15 18:15:00 UTC ┆ 2022-04-15 19:05:00 UTC ┆ 50.0             │\n",
      "│ 2022-04-15 19:35:00 UTC ┆ 2022-04-15 20:50:00 UTC ┆ 75.0             │\n",
      "│ 2022-04-22 17:30:00 UTC ┆ 2022-04-22 18:15:00 UTC ┆ 45.0             │\n",
      "│ 2022-05-09 16:05:00 UTC ┆ 2022-05-09 17:50:00 UTC ┆ 105.0            │\n",
      "│ 2022-05-19 18:25:00 UTC ┆ 2022-05-20 01:15:00 UTC ┆ 410.0            │\n",
      "└─────────────────────────┴─────────────────────────┴──────────────────┘\n"
     ]
    }
   ],
   "execution_count": 8
  },
  {
   "metadata": {
    "ExecuteTime": {
     "end_time": "2025-07-24T17:56:33.132905Z",
     "start_time": "2025-07-24T17:56:33.131702Z"
    }
   },
   "cell_type": "code",
   "source": "",
   "id": "5064b5740bdd4161",
   "outputs": [],
   "execution_count": null
  }
 ],
 "metadata": {
  "kernelspec": {
   "display_name": "Python 3",
   "language": "python",
   "name": "python3"
  },
  "language_info": {
   "codemirror_mode": {
    "name": "ipython",
    "version": 2
   },
   "file_extension": ".py",
   "mimetype": "text/x-python",
   "name": "python",
   "nbconvert_exporter": "python",
   "pygments_lexer": "ipython2",
   "version": "2.7.6"
  }
 },
 "nbformat": 4,
 "nbformat_minor": 5
}

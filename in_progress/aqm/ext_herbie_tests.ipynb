{
 "cells": [
  {
   "metadata": {
    "ExecuteTime": {
     "end_time": "2025-04-10T04:55:02.888533Z",
     "start_time": "2025-04-10T04:55:01.734848Z"
    }
   },
   "cell_type": "code",
   "source": [
    "\n",
    "import sys\n",
    "sys.path.append('/Users/johnlawson/PycharmProjects/Herbie/herbie/models/aqm.py')  # Adjust this path to your Herbie installation\n",
    "\n",
    "\n",
    "from herbie import Herbie\n",
    "from datetime import datetime, timedelta\n",
    "\n",
    "# Yesterday's date\n",
    "date = datetime.utcnow() - timedelta(days=1)\n",
    "\n",
    "print(f\"Testing AQM with date {date}\")\n",
    "\n",
    "# Create Herbie object\n",
    "H = Herbie(\n",
    "    date,\n",
    "    model=\"aqm\",\n",
    "    product=\"ozone\",\n",
    "    run=12,\n",
    "    fxx=1,\n",
    "    verbose=True,\n",
    ")\n",
    "\n",
    "# Check file availability\n",
    "print(\"File sources available:\", H.check_file_availability())\n",
    "\n",
    "# Try to download\n",
    "try:\n",
    "    local_file = H.download()\n",
    "    print(f\"Successfully downloaded to {local_file}\")\n",
    "\n",
    "    # Check inventory\n",
    "    inv = H.inventory()\n",
    "    print(\"Inventory preview:\")\n",
    "    print(inv.head())\n",
    "\n",
    "    # Read data\n",
    "    ds = H.xarray(\"OZCON\")\n",
    "    print(\"\\nDataset info:\")\n",
    "    print(ds)\n",
    "except Exception as e:\n",
    "    print(f\"Error: {e}\")\n"
   ],
   "id": "d407f4c069b08654",
   "outputs": [
    {
     "name": "stdout",
     "output_type": "stream",
     "text": [
      "Testing AQM with date 2025-04-09 04:55:02.721479\n"
     ]
    },
    {
     "ename": "KeyError",
     "evalue": "'ozone'",
     "output_type": "error",
     "traceback": [
      "\u001B[31m---------------------------------------------------------------------------\u001B[39m",
      "\u001B[31mKeyError\u001B[39m                                  Traceback (most recent call last)",
      "\u001B[36mCell\u001B[39m\u001B[36m \u001B[39m\u001B[32mIn[1]\u001B[39m\u001B[32m, line 14\u001B[39m\n\u001B[32m     11\u001B[39m \u001B[38;5;28mprint\u001B[39m(\u001B[33mf\u001B[39m\u001B[33m\"\u001B[39m\u001B[33mTesting AQM with date \u001B[39m\u001B[38;5;132;01m{\u001B[39;00mdate\u001B[38;5;132;01m}\u001B[39;00m\u001B[33m\"\u001B[39m)\n\u001B[32m     13\u001B[39m \u001B[38;5;66;03m# Create Herbie object\u001B[39;00m\n\u001B[32m---> \u001B[39m\u001B[32m14\u001B[39m H = \u001B[43mHerbie\u001B[49m\u001B[43m(\u001B[49m\n\u001B[32m     15\u001B[39m \u001B[43m    \u001B[49m\u001B[43mdate\u001B[49m\u001B[43m,\u001B[49m\n\u001B[32m     16\u001B[39m \u001B[43m    \u001B[49m\u001B[43mmodel\u001B[49m\u001B[43m=\u001B[49m\u001B[33;43m\"\u001B[39;49m\u001B[33;43maqm\u001B[39;49m\u001B[33;43m\"\u001B[39;49m\u001B[43m,\u001B[49m\n\u001B[32m     17\u001B[39m \u001B[43m    \u001B[49m\u001B[43mproduct\u001B[49m\u001B[43m=\u001B[49m\u001B[33;43m\"\u001B[39;49m\u001B[33;43mozone\u001B[39;49m\u001B[33;43m\"\u001B[39;49m\u001B[43m,\u001B[49m\n\u001B[32m     18\u001B[39m \u001B[43m    \u001B[49m\u001B[43mrun\u001B[49m\u001B[43m=\u001B[49m\u001B[32;43m12\u001B[39;49m\u001B[43m,\u001B[49m\n\u001B[32m     19\u001B[39m \u001B[43m    \u001B[49m\u001B[43mfxx\u001B[49m\u001B[43m=\u001B[49m\u001B[32;43m1\u001B[39;49m\u001B[43m,\u001B[49m\n\u001B[32m     20\u001B[39m \u001B[43m    \u001B[49m\u001B[43mverbose\u001B[49m\u001B[43m=\u001B[49m\u001B[38;5;28;43;01mTrue\u001B[39;49;00m\u001B[43m,\u001B[49m\n\u001B[32m     21\u001B[39m \u001B[43m)\u001B[49m\n\u001B[32m     23\u001B[39m \u001B[38;5;66;03m# Check file availability\u001B[39;00m\n\u001B[32m     24\u001B[39m \u001B[38;5;28mprint\u001B[39m(\u001B[33m\"\u001B[39m\u001B[33mFile sources available:\u001B[39m\u001B[33m\"\u001B[39m, H.check_file_availability())\n",
      "\u001B[36mFile \u001B[39m\u001B[32m~/PycharmProjects/Herbie/herbie/core.py:234\u001B[39m, in \u001B[36mHerbie.__init__\u001B[39m\u001B[34m(self, date, valid_date, model, fxx, product, priority, save_dir, overwrite, verbose, **kwargs)\u001B[39m\n\u001B[32m    231\u001B[39m     \u001B[38;5;66;03m# We need to rerun this so the sources have the new product value.\u001B[39;00m\n\u001B[32m    232\u001B[39m     \u001B[38;5;28mgetattr\u001B[39m(model_templates, \u001B[38;5;28mself\u001B[39m.model).template(\u001B[38;5;28mself\u001B[39m)\n\u001B[32m--> \u001B[39m\u001B[32m234\u001B[39m \u001B[38;5;28mself\u001B[39m.product_description = \u001B[38;5;28;43mself\u001B[39;49m\u001B[43m.\u001B[49m\u001B[43mPRODUCTS\u001B[49m\u001B[43m[\u001B[49m\u001B[38;5;28;43mself\u001B[39;49m\u001B[43m.\u001B[49m\u001B[43mproduct\u001B[49m\u001B[43m]\u001B[49m\n\u001B[32m    236\u001B[39m \u001B[38;5;66;03m# Specify the suffix for the inventory index files.\u001B[39;00m\n\u001B[32m    237\u001B[39m \u001B[38;5;66;03m# Default value is `.grib2.idx`, but some have weird suffix,\u001B[39;00m\n\u001B[32m    238\u001B[39m \u001B[38;5;66;03m# like archived RAP on NCEI are `.grb2.inv`.\u001B[39;00m\n\u001B[32m    239\u001B[39m \u001B[38;5;28mself\u001B[39m.IDX_SUFFIX = \u001B[38;5;28mgetattr\u001B[39m(\u001B[38;5;28mself\u001B[39m, \u001B[33m\"\u001B[39m\u001B[33mIDX_SUFFIX\u001B[39m\u001B[33m\"\u001B[39m, [\u001B[33m\"\u001B[39m\u001B[33m.grib2.idx\u001B[39m\u001B[33m\"\u001B[39m])\n",
      "\u001B[31mKeyError\u001B[39m: 'ozone'"
     ]
    }
   ],
   "execution_count": 1
  },
  {
   "metadata": {},
   "cell_type": "code",
   "source": "",
   "id": "2a36aded2d6b6898",
   "outputs": [],
   "execution_count": null
  },
  {
   "metadata": {},
   "cell_type": "code",
   "source": "assert 1==0",
   "id": "24d2dd096415d240",
   "outputs": [],
   "execution_count": null
  },
  {
   "metadata": {},
   "cell_type": "code",
   "source": [
    "# AQM Ozone Data Example\n",
    "import matplotlib.pyplot as plt\n",
    "import cartopy.crs as ccrs\n",
    "import numpy as np\n",
    "from datetime import datetime, timedelta\n",
    "\n",
    "import sys\n",
    "sys.path.append('/Users/johnlawson/PycharmProjects/Herbie/herbie/models/aqm.py')  # Adjust this path to your Herbie installation\n",
    "from herbie import Herbie\n",
    "\n",
    "# Set up the notebook for plotting\n",
    "%matplotlib inline\n",
    "plt.rcParams['figure.figsize'] = (12, 8)\n",
    "\n",
    "# Create a Herbie object for AQM ozone data\n",
    "# Let's get yesterday's 12Z run, 24-hour forecast\n",
    "\n",
    "yesterday = datetime(2025, 4, 4)\n",
    "H = Herbie(\n",
    "    f\"{yesterday.strftime('%Y%m%d')} 12:00\",\n",
    "    model=\"aqm\",\n",
    "    product=\"ozone\",\n",
    "    fxx=0,\n",
    ")"
   ],
   "id": "3421b864f63d93a6",
   "outputs": [],
   "execution_count": null
  },
  {
   "metadata": {
    "collapsed": true
   },
   "cell_type": "code",
   "source": [
    "print(f\"URL: {H.url}\")\n",
    "\n",
    "# Display information about the file\n",
    "print(f\"Model: {H.model}\")\n",
    "print(f\"Date: {H.date}\")\n",
    "print(f\"Run: {H.run}\")\n",
    "print(f\"Forecast hour: {H.fxx}\")\n",
    "print(f\"Product: {H.product}\")\n",
    "\n",
    "# Check if the file exists and show the URL\n",
    "print(f\"URL: {H.get_url()}\")\n",
    "\n",
    "# Look at the inventory of the file\n",
    "print(\"\\nFile Inventory:\")\n",
    "inventory = H.inventory()\n",
    "print(inventory.head(10))  # Show first 10 entries\n",
    "\n",
    "# Download the file\n",
    "local_file = H.download()\n",
    "print(f\"\\nDownloaded to: {local_file}\")\n",
    "\n",
    "# Read ozone data with xarray\n",
    "# Typically, surface ozone is what we're interested in\n",
    "ds = H.xarray(\"OZCON:1 hybrid level\")\n",
    "\n",
    "# Display dataset information\n",
    "print(\"\\nDataset Information:\")\n",
    "print(ds)\n",
    "\n",
    "# Plot the data\n",
    "plt.figure(figsize=(15, 10))\n",
    "ax = plt.axes(projection=ccrs.LambertConformal(\n",
    "    central_longitude=-97.5, central_latitude=38.5))\n",
    "\n",
    "# Add map features\n",
    "ax.coastlines()\n",
    "ax.add_feature(ccrs.cartopy.feature.STATES)\n",
    "\n",
    "# Plot the ozone concentration\n",
    "cf = ds[\"OZCON_1hybridlevel\"].plot(\n",
    "    ax=ax,\n",
    "    transform=ccrs.PlateCarree(),\n",
    "    cmap='jet',\n",
    "    vmin=0,\n",
    "    vmax=80,\n",
    "    add_colorbar=False\n",
    ")\n",
    "\n",
    "# Add colorbar\n",
    "cbar = plt.colorbar(cf, orientation='horizontal', pad=0.05, aspect=50)\n",
    "cbar.set_label('Ozone Concentration (ppb)')\n",
    "\n",
    "# Add title\n",
    "plt.title(f'AQM Ozone Forecast\\n{H.date.strftime(\"%Y-%m-%d\")} {H.run:02d}Z +{H.fxx}h', fontsize=16)\n",
    "\n",
    "plt.tight_layout()\n",
    "plt.show()\n",
    "\n",
    "# Extract data at a specific location (e.g., New York City)\n",
    "nyc_lat, nyc_lon = 40.7128, -74.0060\n",
    "print(f\"\\nOzone concentration near New York City ({nyc_lat}, {nyc_lon}):\")\n",
    "point_data = ds.herbie.nearest_point(nyc_lat, nyc_lon)\n",
    "print(f\"Value: {point_data['OZCON_1hybridlevel'].values} ppb\")\n"
   ],
   "id": "initial_id",
   "outputs": [],
   "execution_count": null
  },
  {
   "metadata": {},
   "cell_type": "code",
   "source": "",
   "id": "5100505c74077165",
   "outputs": [],
   "execution_count": null
  }
 ],
 "metadata": {
  "kernelspec": {
   "display_name": "Python 3",
   "language": "python",
   "name": "python3"
  },
  "language_info": {
   "codemirror_mode": {
    "name": "ipython",
    "version": 2
   },
   "file_extension": ".py",
   "mimetype": "text/x-python",
   "name": "python",
   "nbconvert_exporter": "python",
   "pygments_lexer": "ipython2",
   "version": "2.7.6"
  }
 },
 "nbformat": 4,
 "nbformat_minor": 5
}

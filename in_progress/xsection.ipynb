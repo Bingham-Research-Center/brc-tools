{
 "cells": [
  {
   "cell_type": "code",
   "id": "initial_id",
   "metadata": {
    "collapsed": true,
    "ExecuteTime": {
     "end_time": "2025-05-12T18:27:53.598772Z",
     "start_time": "2025-05-12T18:27:53.597491Z"
    }
   },
   "source": [
    ""
   ],
   "outputs": [],
   "execution_count": null
  },
  {
   "metadata": {
    "ExecuteTime": {
     "end_time": "2025-05-12T18:27:58.692536Z",
     "start_time": "2025-05-12T18:27:53.688473Z"
    }
   },
   "cell_type": "code",
   "source": [
    "import numpy as np\n",
    "import matplotlib.pyplot as plt\n",
    "import cartopy.crs as ccrs\n",
    "import cartopy.feature as cfeature\n",
    "import xarray as xr\n",
    "import metpy.calc as mpcalc\n",
    "from metpy.interpolate import cross_section\n",
    "from metpy.units import units\n",
    "from herbie import Herbie\n",
    "\n",
    "# Define the start and end points for our cross section\n",
    "# Heber City, UT: 40.5074° N, 111.4096° W\n",
    "# Dinosaur, CO: 40.2436° N, 109.0173° W\n",
    "start = (40.5074, -111.4096)  # (lat, lon) for Heber City, UT\n",
    "end = (40.2436, -109.0173)    # (lat, lon) for Dinosaur, CO\n",
    "\n",
    "# Set up the time and forecast information\n",
    "model_run = \"2025-01-31 12:00\"\n",
    "valid_time = \"2025-01-31 18:00\"\n",
    "fxx = 6  # 6-hour forecast from 12Z to get 18Z\n"
   ],
   "id": "d07e3218b664aa48",
   "outputs": [],
   "execution_count": 1
  },
  {
   "metadata": {
    "ExecuteTime": {
     "end_time": "2025-05-12T18:28:01.994746Z",
     "start_time": "2025-05-12T18:27:58.704465Z"
    }
   },
   "cell_type": "code",
   "source": [
    "# Create a Herbie object for the GFS model\n",
    "H = Herbie(\n",
    "    model_run,\n",
    "    model=\"gfs\",\n",
    "    product=\"pgrb2.0p25\",  # 0.25-degree resolution GFS data\n",
    "    fxx=fxx\n",
    ")\n",
    "\n",
    "pattern = \"TMP:.*mb|HGT:.*mb|HGT:surface\"\n",
    "local_file = H.download(pattern)\n",
    "ds = H.xarray(pattern, decode_timedelta=False)\n",
    "ds"
   ],
   "id": "18c90c02374dd708",
   "outputs": [
    {
     "name": "stdout",
     "output_type": "stream",
     "text": [
      "✅ Found ┊ model=gfs ┊ \u001B[3mproduct=pgrb2.0p25\u001B[0m ┊ \u001B[38;2;41;130;13m2025-Jan-31 12:00 UTC\u001B[92m F06\u001B[0m ┊ \u001B[38;2;255;153;0m\u001B[3mGRIB2 @ aws\u001B[0m ┊ \u001B[38;2;255;153;0m\u001B[3mIDX @ aws\u001B[0m\n"
     ]
    },
    {
     "name": "stderr",
     "output_type": "stream",
     "text": [
      "/Users/johnlawson/anaconda3/envs/brc-tools-polars/lib/python3.12/site-packages/herbie/core.py:1106: UserWarning: Will not remove GRIB file because it previously existed.\n",
      "  warnings.warn(\"Will not remove GRIB file because it previously existed.\")\n",
      "/Users/johnlawson/anaconda3/envs/brc-tools-polars/lib/python3.12/site-packages/cfgrib/xarray_plugin.py:131: FutureWarning: In a future version of xarray decode_timedelta will default to False rather than None. To silence this warning, set decode_timedelta to True, False, or a 'CFTimedeltaCoder' instance.\n",
      "  vars, attrs, coord_names = xr.conventions.decode_cf_variables(\n",
      "/Users/johnlawson/anaconda3/envs/brc-tools-polars/lib/python3.12/site-packages/cfgrib/xarray_plugin.py:131: FutureWarning: In a future version of xarray decode_timedelta will default to False rather than None. To silence this warning, set decode_timedelta to True, False, or a 'CFTimedeltaCoder' instance.\n",
      "  vars, attrs, coord_names = xr.conventions.decode_cf_variables(\n",
      "/Users/johnlawson/anaconda3/envs/brc-tools-polars/lib/python3.12/site-packages/cfgrib/xarray_plugin.py:131: FutureWarning: In a future version of xarray decode_timedelta will default to False rather than None. To silence this warning, set decode_timedelta to True, False, or a 'CFTimedeltaCoder' instance.\n",
      "  vars, attrs, coord_names = xr.conventions.decode_cf_variables(\n"
     ]
    },
    {
     "name": "stdout",
     "output_type": "stream",
     "text": [
      "Note: Returning a list of [4] xarray.Datasets because cfgrib opened with multiple hypercubes.\n"
     ]
    },
    {
     "name": "stderr",
     "output_type": "stream",
     "text": [
      "/Users/johnlawson/anaconda3/envs/brc-tools-polars/lib/python3.12/site-packages/cfgrib/xarray_plugin.py:131: FutureWarning: In a future version of xarray decode_timedelta will default to False rather than None. To silence this warning, set decode_timedelta to True, False, or a 'CFTimedeltaCoder' instance.\n",
      "  vars, attrs, coord_names = xr.conventions.decode_cf_variables(\n",
      "/Users/johnlawson/anaconda3/envs/brc-tools-polars/lib/python3.12/site-packages/cfgrib/xarray_plugin.py:131: FutureWarning: In a future version of xarray decode_timedelta will default to False rather than None. To silence this warning, set decode_timedelta to True, False, or a 'CFTimedeltaCoder' instance.\n",
      "  vars, attrs, coord_names = xr.conventions.decode_cf_variables(\n",
      "/Users/johnlawson/anaconda3/envs/brc-tools-polars/lib/python3.12/site-packages/cfgrib/xarray_plugin.py:131: FutureWarning: In a future version of xarray decode_timedelta will default to False rather than None. To silence this warning, set decode_timedelta to True, False, or a 'CFTimedeltaCoder' instance.\n",
      "  vars, attrs, coord_names = xr.conventions.decode_cf_variables(\n"
     ]
    },
    {
     "data": {
      "text/plain": [
       "[<xarray.Dataset> Size: 66MB\n",
       " Dimensions:              (isobaricInPa: 8, latitude: 721, longitude: 1440)\n",
       " Coordinates:\n",
       "     time                 datetime64[ns] 8B 2025-01-31T12:00:00\n",
       "     step                 timedelta64[ns] 8B 06:00:00\n",
       "   * isobaricInPa         (isobaricInPa) float64 64B 70.0 40.0 20.0 ... 2.0 1.0\n",
       "   * latitude             (latitude) float64 6kB 90.0 89.75 89.5 ... -89.75 -90.0\n",
       "   * longitude            (longitude) float64 12kB 0.0 0.25 0.5 ... 359.5 359.8\n",
       "     valid_time           datetime64[ns] 8B 2025-01-31T18:00:00\n",
       "     gribfile_projection  object 8B None\n",
       " Data variables:\n",
       "     t                    (isobaricInPa, latitude, longitude) float32 33MB ...\n",
       "     gh                   (isobaricInPa, latitude, longitude) float32 33MB ...\n",
       " Attributes:\n",
       "     GRIB_edition:            2\n",
       "     GRIB_centre:             kwbc\n",
       "     GRIB_centreDescription:  US National Weather Service - NCEP\n",
       "     GRIB_subCentre:          0\n",
       "     Conventions:             CF-1.7\n",
       "     institution:             US National Weather Service - NCEP\n",
       "     model:                   gfs\n",
       "     product:                 pgrb2.0p25\n",
       "     description:             NOAA Global Forecast System (GFS)\n",
       "     remote_grib:             https://noaa-gfs-bdp-pds.s3.amazonaws.com/gfs.20...\n",
       "     local_grib:              /Users/johnlawson/data/gfs/20250131/subset_9fb22...\n",
       "     search:                  TMP:.*mb|HGT:.*mb|HGT:surface,\n",
       " <xarray.Dataset> Size: 274MB\n",
       " Dimensions:              (isobaricInhPa: 33, latitude: 721, longitude: 1440)\n",
       " Coordinates:\n",
       "     time                 datetime64[ns] 8B 2025-01-31T12:00:00\n",
       "     step                 timedelta64[ns] 8B 06:00:00\n",
       "   * isobaricInhPa        (isobaricInhPa) float64 264B 1e+03 975.0 ... 2.0 1.0\n",
       "   * latitude             (latitude) float64 6kB 90.0 89.75 89.5 ... -89.75 -90.0\n",
       "   * longitude            (longitude) float64 12kB 0.0 0.25 0.5 ... 359.5 359.8\n",
       "     valid_time           datetime64[ns] 8B 2025-01-31T18:00:00\n",
       "     gribfile_projection  object 8B None\n",
       " Data variables:\n",
       "     t                    (isobaricInhPa, latitude, longitude) float32 137MB ...\n",
       "     gh                   (isobaricInhPa, latitude, longitude) float32 137MB ...\n",
       " Attributes:\n",
       "     GRIB_edition:            2\n",
       "     GRIB_centre:             kwbc\n",
       "     GRIB_centreDescription:  US National Weather Service - NCEP\n",
       "     GRIB_subCentre:          0\n",
       "     Conventions:             CF-1.7\n",
       "     institution:             US National Weather Service - NCEP\n",
       "     model:                   gfs\n",
       "     product:                 pgrb2.0p25\n",
       "     description:             NOAA Global Forecast System (GFS)\n",
       "     remote_grib:             https://noaa-gfs-bdp-pds.s3.amazonaws.com/gfs.20...\n",
       "     local_grib:              /Users/johnlawson/data/gfs/20250131/subset_9fb22...\n",
       "     search:                  TMP:.*mb|HGT:.*mb|HGT:surface,\n",
       " <xarray.Dataset> Size: 4MB\n",
       " Dimensions:                  (latitude: 721, longitude: 1440)\n",
       " Coordinates:\n",
       "     time                     datetime64[ns] 8B 2025-01-31T12:00:00\n",
       "     step                     timedelta64[ns] 8B 06:00:00\n",
       "     pressureFromGroundLayer  float64 8B 3e+03\n",
       "   * latitude                 (latitude) float64 6kB 90.0 89.75 ... -89.75 -90.0\n",
       "   * longitude                (longitude) float64 12kB 0.0 0.25 ... 359.5 359.8\n",
       "     valid_time               datetime64[ns] 8B ...\n",
       "     gribfile_projection      object 8B None\n",
       " Data variables:\n",
       "     t                        (latitude, longitude) float32 4MB ...\n",
       " Attributes:\n",
       "     GRIB_edition:            2\n",
       "     GRIB_centre:             kwbc\n",
       "     GRIB_centreDescription:  US National Weather Service - NCEP\n",
       "     GRIB_subCentre:          0\n",
       "     Conventions:             CF-1.7\n",
       "     institution:             US National Weather Service - NCEP\n",
       "     model:                   gfs\n",
       "     product:                 pgrb2.0p25\n",
       "     description:             NOAA Global Forecast System (GFS)\n",
       "     remote_grib:             https://noaa-gfs-bdp-pds.s3.amazonaws.com/gfs.20...\n",
       "     local_grib:              /Users/johnlawson/data/gfs/20250131/subset_9fb22...\n",
       "     search:                  TMP:.*mb|HGT:.*mb|HGT:surface,\n",
       " <xarray.Dataset> Size: 4MB\n",
       " Dimensions:              (latitude: 721, longitude: 1440)\n",
       " Coordinates:\n",
       "     time                 datetime64[ns] 8B 2025-01-31T12:00:00\n",
       "     step                 timedelta64[ns] 8B 06:00:00\n",
       "     surface              float64 8B 0.0\n",
       "   * latitude             (latitude) float64 6kB 90.0 89.75 89.5 ... -89.75 -90.0\n",
       "   * longitude            (longitude) float64 12kB 0.0 0.25 0.5 ... 359.5 359.8\n",
       "     valid_time           datetime64[ns] 8B ...\n",
       "     gribfile_projection  object 8B None\n",
       " Data variables:\n",
       "     orog                 (latitude, longitude) float32 4MB ...\n",
       " Attributes:\n",
       "     GRIB_edition:            2\n",
       "     GRIB_centre:             kwbc\n",
       "     GRIB_centreDescription:  US National Weather Service - NCEP\n",
       "     GRIB_subCentre:          0\n",
       "     Conventions:             CF-1.7\n",
       "     institution:             US National Weather Service - NCEP\n",
       "     model:                   gfs\n",
       "     product:                 pgrb2.0p25\n",
       "     description:             NOAA Global Forecast System (GFS)\n",
       "     remote_grib:             https://noaa-gfs-bdp-pds.s3.amazonaws.com/gfs.20...\n",
       "     local_grib:              /Users/johnlawson/data/gfs/20250131/subset_9fb22...\n",
       "     search:                  TMP:.*mb|HGT:.*mb|HGT:surface]"
      ]
     },
     "execution_count": 2,
     "metadata": {},
     "output_type": "execute_result"
    }
   ],
   "execution_count": 2
  },
  {
   "metadata": {
    "ExecuteTime": {
     "end_time": "2025-05-12T18:28:02.168426Z",
     "start_time": "2025-05-12T18:28:02.008702Z"
    }
   },
   "cell_type": "code",
   "source": [
    "# Create a cross-section object\n",
    "data_crs = ds.metpy.cartopy_crs\n",
    "\n",
    "# Extract the pressure levels\n",
    "pressure_levels = ds['isobaric'].metpy.convert_units('hPa')\n",
    "\n",
    "# Create the cross-section\n",
    "cross = cross_section(ds, start, end, steps=100)\n",
    "\n",
    "# Calculate potential temperature\n",
    "cross['potential_temperature'] = mpcalc.potential_temperature(\n",
    "    cross['isobaric'],\n",
    "    cross['TMP']\n",
    ")\n",
    "\n",
    "# Extract terrain height along the cross-section\n",
    "terrain = cross['HGT_surface']\n"
   ],
   "id": "21f5a7c13d5ae6f5",
   "outputs": [
    {
     "ename": "AttributeError",
     "evalue": "'list' object has no attribute 'metpy'",
     "output_type": "error",
     "traceback": [
      "\u001B[31m---------------------------------------------------------------------------\u001B[39m",
      "\u001B[31mAttributeError\u001B[39m                            Traceback (most recent call last)",
      "\u001B[36mCell\u001B[39m\u001B[36m \u001B[39m\u001B[32mIn[3]\u001B[39m\u001B[32m, line 2\u001B[39m\n\u001B[32m      1\u001B[39m \u001B[38;5;66;03m# Create a cross-section object\u001B[39;00m\n\u001B[32m----> \u001B[39m\u001B[32m2\u001B[39m data_crs = \u001B[43mds\u001B[49m\u001B[43m.\u001B[49m\u001B[43mmetpy\u001B[49m.cartopy_crs\n\u001B[32m      4\u001B[39m \u001B[38;5;66;03m# Extract the pressure levels\u001B[39;00m\n\u001B[32m      5\u001B[39m pressure_levels = ds[\u001B[33m'\u001B[39m\u001B[33misobaric\u001B[39m\u001B[33m'\u001B[39m].metpy.convert_units(\u001B[33m'\u001B[39m\u001B[33mhPa\u001B[39m\u001B[33m'\u001B[39m)\n",
      "\u001B[31mAttributeError\u001B[39m: 'list' object has no attribute 'metpy'"
     ]
    }
   ],
   "execution_count": 3
  },
  {
   "metadata": {},
   "cell_type": "code",
   "source": [
    "# Create the figure and primary axes\n",
    "fig = plt.figure(figsize=(15, 10))\n",
    "ax = plt.axes()\n",
    "\n",
    "# Plot potential temperature using contour\n",
    "levels = np.arange(260, 400, 5)\n",
    "theta_contour = ax.contour(\n",
    "    cross['lon'],\n",
    "    cross['isobaric'],\n",
    "    cross['potential_temperature'],\n",
    "    levels=levels,\n",
    "    colors='k',\n",
    "    linewidths=1.5\n",
    ")\n",
    "\n",
    "# Add contour labels\n",
    "plt.clabel(theta_contour, fontsize=10, inline=1, inline_spacing=10, fmt='%d')\n",
    "\n",
    "# Plot terrain profile at the bottom\n",
    "# Convert terrain height to pressure using a simple approximation\n",
    "# This is a simplification - in practice, you might want a more accurate representation\n",
    "terrain_pressure = 1013.25 * np.exp(-terrain / 7000)  # Simple pressure-height relationship\n",
    "ax.fill_between(cross['lon'], 1050, terrain_pressure, color='saddlebrown', alpha=0.8)\n",
    "\n",
    "# Adjust the y-axis to be logarithmic\n",
    "ax.set_yscale('symlog')\n",
    "ax.set_ylim(1050, 100)  # From surface to about 100 hPa\n",
    "ax.set_yticks(np.arange(1000, 100, -100))\n",
    "ax.set_yticklabels([f\"{p}\" for p in np.arange(1000, 100, -100)])\n",
    "ax.invert_yaxis()  # Invert to have surface at bottom\n",
    "\n",
    "# Add a map inset showing the cross-section path\n",
    "ax_inset = fig.add_axes([0.15, 0.15, 0.2, 0.2], projection=data_crs)\n",
    "ax_inset.coastlines()\n",
    "ax_inset.add_feature(cfeature.STATES.with_scale('50m'), edgecolor='k', alpha=0.3)\n",
    "\n",
    "# Plot the path of the cross section\n",
    "endpoints = data_crs.transform_points(ccrs.Geodetic(),\n",
    "                                      *np.vstack([start, end]).transpose()[::-1])\n",
    "ax_inset.scatter(endpoints[:, 0], endpoints[:, 1], c='r', zorder=2)\n",
    "ax_inset.plot([cross['x'].values[0], cross['x'].values[-1]],\n",
    "              [cross['y'].values[0], cross['y'].values[-1]], c='r', zorder=2)\n",
    "\n",
    "# Set map boundaries to focus on our area of interest\n",
    "ax_inset.set_extent([start[1]-3, end[1]+3, start[0]-3, end[0]+3], crs=ccrs.PlateCarree())\n",
    "\n",
    "# Set titles and labels\n",
    "ax.set_title(f'GFS Cross-Section: Heber City, UT to Dinosaur, CO\\n'\n",
    "             f'Valid: {valid_time} (F{fxx:02d} from {model_run})\\n'\n",
    "             f'Potential Temperature (K) and Terrain Profile', fontsize=14)\n",
    "ax.set_xlabel('Longitude (°E)', fontsize=12)\n",
    "ax.set_ylabel('Pressure (hPa)', fontsize=12)\n",
    "\n",
    "# Add a text box with location information\n",
    "plt.figtext(0.15, 0.9, f'Heber City, UT: {start[0]:.2f}°N, {start[1]:.2f}°E\\n'\n",
    "                       f'Dinosaur, CO: {end[0]:.2f}°N, {end[1]:.2f}°E',\n",
    "            bbox=dict(facecolor='white', alpha=0.7))\n",
    "\n",
    "plt.tight_layout()\n",
    "plt.show()\n"
   ],
   "id": "6f087311f27f9dfa",
   "outputs": [],
   "execution_count": null
  }
 ],
 "metadata": {
  "kernelspec": {
   "display_name": "Python 3",
   "language": "python",
   "name": "python3"
  },
  "language_info": {
   "codemirror_mode": {
    "name": "ipython",
    "version": 2
   },
   "file_extension": ".py",
   "mimetype": "text/x-python",
   "name": "python",
   "nbconvert_exporter": "python",
   "pygments_lexer": "ipython2",
   "version": "2.7.6"
  }
 },
 "nbformat": 4,
 "nbformat_minor": 5
}

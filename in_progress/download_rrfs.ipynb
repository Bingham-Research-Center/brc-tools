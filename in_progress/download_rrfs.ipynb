{
 "cells": [
  {
   "cell_type": "code",
   "id": "initial_id",
   "metadata": {
    "collapsed": true,
    "ExecuteTime": {
     "end_time": "2025-03-17T22:25:14.070020Z",
     "start_time": "2025-03-17T22:25:12.523692Z"
    }
   },
   "source": [
    "import os\n",
    "\n",
    "import numpy as np\n",
    "\n",
    "import matplotlib.pyplot as plt\n",
    "\n",
    "# import synoptic\n",
    "# import herbie\n",
    "import metpy\n",
    "\n",
    "from herbie import Herbie\n",
    "from herbie.toolbox import EasyMap, pc\n",
    "from herbie import paint\n"
   ],
   "outputs": [],
   "execution_count": 1
  },
  {
   "metadata": {
    "ExecuteTime": {
     "end_time": "2025-03-17T22:25:14.075538Z",
     "start_time": "2025-03-17T22:25:14.073819Z"
    }
   },
   "cell_type": "code",
   "source": "# Determine case study dates",
   "id": "1201fcc7745fb5fc",
   "outputs": [],
   "execution_count": 2
  },
  {
   "metadata": {
    "ExecuteTime": {
     "end_time": "2025-03-17T22:25:14.157050Z",
     "start_time": "2025-03-17T22:25:14.154494Z"
    }
   },
   "cell_type": "code",
   "source": [
    "# Function for loading HRRR data\n",
    "def load_hrrr_data():\n",
    "    \"\"\"Load HRRR data.\n",
    "    \"\"\"\n",
    "    pass\n",
    "\n",
    "def load_rrfs_data():\n",
    "    \"\"\"Load RRFS data.\n",
    "    \"\"\"\n",
    "    H = Herbie(\n",
    "        \"2025-02-15 18:00\",\n",
    "        # \"2024-08-15 12:00\",\n",
    "        model=\"rrfs\",\n",
    "        fxx=1,\n",
    "        member=\"control\",\n",
    "        domain=\"conus\",\n",
    "        # product=\"testbed\",\n",
    "    )\n",
    "\n",
    "    return H\n",
    "\n",
    "def visualise_cross_section():\n",
    "    \"\"\"Visualise a cross section of the HRRR data.\n",
    "    \"\"\"\n",
    "    pass\n",
    "\n",
    "def load_observation_data():\n",
    "    \"\"\"Load observation data.\n",
    "\n",
    "    KVEL, UTxxx, COOP, etc. See Alex's original email\n",
    "    \"\"\"\n",
    "    pass\n",
    "\n",
    "def load_clyfar_forecasts():\n",
    "    \"\"\"Load ClyFar forecasts.\n",
    "    \"\"\"\n",
    "    pass\n",
    "\n",
    "def download_rtma():\n",
    "    \"\"\"Download RTMA data.\n",
    "    \"\"\"\n",
    "    pass\n",
    "\n",
    "def plot_available_stations():\n",
    "    \"\"\"Plot available stations.\n",
    "    \"\"\"\n",
    "    pass\n",
    "\n",
    "def filter_time_series():\n",
    "    \"\"\"Filter time series, especially snow.\n",
    "    \"\"\"\n",
    "    pass\n",
    "\n",
    "def mask_by_elevation():\n",
    "    \"\"\"Mask data by elevation.\n",
    "    \"\"\"\n",
    "    pass\n"
   ],
   "id": "8429c276285f344c",
   "outputs": [],
   "execution_count": 3
  },
  {
   "metadata": {
    "ExecuteTime": {
     "end_time": "2025-03-17T22:25:15.255225Z",
     "start_time": "2025-03-17T22:25:14.167027Z"
    }
   },
   "cell_type": "code",
   "source": [
    "H = load_rrfs_data()\n",
    "print(H.help())\n",
    "\n"
   ],
   "id": "948431c802ca4b8",
   "outputs": [
    {
     "name": "stdout",
     "output_type": "stream",
     "text": [
      "💔 Did not find ┊ model=rrfs ┊ \u001B[3mproduct=prslev\u001B[0m ┊ \u001B[38;2;41;130;13m2025-Feb-15 18:00 UTC\u001B[92m F01\u001B[0m\n",
      "╭─ Herbie ────────────────────────────────\n",
      "│ Help for model='rrfs'\n",
      "│ \n",
      "│ Rapid Refresh Forecast System (RRFS) Ensemble\n",
      "│  aws product description: https://registry.opendata.aws/noaa-rrfs/\n",
      "│\n",
      "│ Herbie(date, model='rrfs', ...)\n",
      "│ \n",
      "│ fxx : int\n",
      "│ product : {\"prs\", \"nat\", \"testbed\", \"ififip\"}\n",
      "│ member : {\"control\", int}\n",
      "│ domain : {\"conus\", \"alaska\", \"hawaii\", \"puerto rico\", None}\n",
      "│ \n",
      "│ If product=\"natlev', then domain must be None\n",
      "│\n",
      "╰─────────────────────────────────────────\n",
      "None\n"
     ]
    }
   ],
   "execution_count": 4
  },
  {
   "metadata": {
    "ExecuteTime": {
     "end_time": "2025-03-17T22:25:15.282998Z",
     "start_time": "2025-03-17T22:25:15.280859Z"
    }
   },
   "cell_type": "code",
   "source": "print(H.SOURCES)",
   "id": "66e3ffe32f77e87f",
   "outputs": [
    {
     "name": "stdout",
     "output_type": "stream",
     "text": [
      "{'aws_0': 'https://noaa-rrfs-pds.s3.amazonaws.com/rrfs_a/rrfs_a.20250215/18/control/rrfs.t18z.prslev.f001.conus.grib2', 'aws_1': 'https://noaa-rrfs-pds.s3.amazonaws.com/rrfs_a/rrfs_a.20250215/18/control/rrfs.t18z.prslev.f001.conus_3km.grib2'}\n"
     ]
    }
   ],
   "execution_count": 5
  },
  {
   "metadata": {
    "ExecuteTime": {
     "end_time": "2025-03-17T22:25:15.515662Z",
     "start_time": "2025-03-17T22:25:15.303687Z"
    }
   },
   "cell_type": "code",
   "source": [
    "ds = H.xarray(\"TMP:2 m above ground\")\n",
    "ds"
   ],
   "id": "5ffea61093e8007",
   "outputs": [
    {
     "ename": "ValueError",
     "evalue": "\nNo index file was found for None\nDownload the full file first (with `H.download()`).\nYou will need to remake the Herbie object (H = `Herbie()`)\nor delete this cached property: `del H.index_as_dataframe()`",
     "output_type": "error",
     "traceback": [
      "\u001B[31m---------------------------------------------------------------------------\u001B[39m",
      "\u001B[31mValueError\u001B[39m                                Traceback (most recent call last)",
      "\u001B[36mCell\u001B[39m\u001B[36m \u001B[39m\u001B[32mIn[6]\u001B[39m\u001B[32m, line 1\u001B[39m\n\u001B[32m----> \u001B[39m\u001B[32m1\u001B[39m ds = \u001B[43mH\u001B[49m\u001B[43m.\u001B[49m\u001B[43mxarray\u001B[49m\u001B[43m(\u001B[49m\u001B[33;43m\"\u001B[39;49m\u001B[33;43mTMP:2 m above ground\u001B[39;49m\u001B[33;43m\"\u001B[39;49m\u001B[43m)\u001B[49m\n\u001B[32m      2\u001B[39m ds\n",
      "\u001B[36mFile \u001B[39m\u001B[32m~/anaconda3/envs/brc-tools/lib/python3.12/site-packages/herbie/core.py:1088\u001B[39m, in \u001B[36mHerbie.xarray\u001B[39m\u001B[34m(self, search, searchString, backend_kwargs, remove_grib, _use_pygrib_for_crs, **download_kwargs)\u001B[39m\n\u001B[32m   1084\u001B[39m     search = searchString\n\u001B[32m   1086\u001B[39m download_kwargs = {**\u001B[38;5;28mdict\u001B[39m(overwrite=\u001B[38;5;28;01mFalse\u001B[39;00m), **download_kwargs}\n\u001B[32m-> \u001B[39m\u001B[32m1088\u001B[39m local_file = \u001B[38;5;28;43mself\u001B[39;49m\u001B[43m.\u001B[49m\u001B[43mget_localFilePath\u001B[49m\u001B[43m(\u001B[49m\u001B[43msearch\u001B[49m\u001B[43m)\u001B[49m\n\u001B[32m   1090\u001B[39m \u001B[38;5;28;01mif\u001B[39;00m \u001B[33m\"\u001B[39m\u001B[33msave_dir\u001B[39m\u001B[33m\"\u001B[39m \u001B[38;5;129;01min\u001B[39;00m download_kwargs:\n\u001B[32m   1091\u001B[39m     \u001B[38;5;66;03m# Looks like the save_dir was changed.\u001B[39;00m\n\u001B[32m   1092\u001B[39m     \u001B[38;5;28mself\u001B[39m.save_dir = Path(download_kwargs[\u001B[33m\"\u001B[39m\u001B[33msave_dir\u001B[39m\u001B[33m\"\u001B[39m]).expand()\n",
      "\u001B[36mFile \u001B[39m\u001B[32m~/anaconda3/envs/brc-tools/lib/python3.12/site-packages/herbie/core.py:555\u001B[39m, in \u001B[36mHerbie.get_localFilePath\u001B[39m\u001B[34m(self, search, searchString)\u001B[39m\n\u001B[32m    544\u001B[39m     localFilePath = \u001B[38;5;28mnext\u001B[39m(\n\u001B[32m    545\u001B[39m         (\n\u001B[32m    546\u001B[39m             Path(\u001B[38;5;28mself\u001B[39m.SOURCES[i])\n\u001B[32m   (...)\u001B[39m\u001B[32m    550\u001B[39m         localFilePath,\n\u001B[32m    551\u001B[39m     )\n\u001B[32m    553\u001B[39m \u001B[38;5;28;01mif\u001B[39;00m search \u001B[38;5;129;01mis\u001B[39;00m \u001B[38;5;129;01mnot\u001B[39;00m \u001B[38;5;28;01mNone\u001B[39;00m:\n\u001B[32m    554\u001B[39m     \u001B[38;5;66;03m# Reassign the index DataFrame with the requested search\u001B[39;00m\n\u001B[32m--> \u001B[39m\u001B[32m555\u001B[39m     idx_df = \u001B[38;5;28;43mself\u001B[39;49m\u001B[43m.\u001B[49m\u001B[43minventory\u001B[49m\u001B[43m(\u001B[49m\u001B[43msearch\u001B[49m\u001B[43m)\u001B[49m\n\u001B[32m    557\u001B[39m     \u001B[38;5;66;03m# ======================================\u001B[39;00m\n\u001B[32m    558\u001B[39m     \u001B[38;5;66;03m# Make a unique filename for the subset\u001B[39;00m\n\u001B[32m    559\u001B[39m \n\u001B[32m    560\u001B[39m     \u001B[38;5;66;03m# Get a list of all GRIB message numbers. We will use this\u001B[39;00m\n\u001B[32m    561\u001B[39m     \u001B[38;5;66;03m# in the output file name as a unique identifier.\u001B[39;00m\n\u001B[32m    562\u001B[39m     all_grib_msg = \u001B[33m\"\u001B[39m\u001B[33m-\u001B[39m\u001B[33m\"\u001B[39m.join([\u001B[33mf\u001B[39m\u001B[33m\"\u001B[39m\u001B[38;5;132;01m{\u001B[39;00mi\u001B[38;5;132;01m:\u001B[39;00m\u001B[33mg\u001B[39m\u001B[38;5;132;01m}\u001B[39;00m\u001B[33m\"\u001B[39m \u001B[38;5;28;01mfor\u001B[39;00m i \u001B[38;5;129;01min\u001B[39;00m idx_df.index])\n",
      "\u001B[36mFile \u001B[39m\u001B[32m~/anaconda3/envs/brc-tools/lib/python3.12/site-packages/herbie/core.py:795\u001B[39m, in \u001B[36mHerbie.inventory\u001B[39m\u001B[34m(self, search, searchString, verbose)\u001B[39m\n\u001B[32m    762\u001B[39m \u001B[38;5;28;01mdef\u001B[39;00m\u001B[38;5;250m \u001B[39m\u001B[34minventory\u001B[39m(\n\u001B[32m    763\u001B[39m     \u001B[38;5;28mself\u001B[39m,\n\u001B[32m    764\u001B[39m     search: Optional[\u001B[38;5;28mstr\u001B[39m] = \u001B[38;5;28;01mNone\u001B[39;00m,\n\u001B[32m   (...)\u001B[39m\u001B[32m    767\u001B[39m     verbose: Optional[\u001B[38;5;28mbool\u001B[39m] = \u001B[38;5;28;01mNone\u001B[39;00m,\n\u001B[32m    768\u001B[39m ) -> pd.DataFrame:\n\u001B[32m    769\u001B[39m \u001B[38;5;250m    \u001B[39m\u001B[33;03m\"\"\"\u001B[39;00m\n\u001B[32m    770\u001B[39m \u001B[33;03m    Inspect the GRIB2 file contents by reading the index file.\u001B[39;00m\n\u001B[32m    771\u001B[39m \n\u001B[32m   (...)\u001B[39m\u001B[32m    793\u001B[39m \n\u001B[32m    794\u001B[39m \u001B[33;03m    \"\"\"\u001B[39;00m\n\u001B[32m--> \u001B[39m\u001B[32m795\u001B[39m     df = \u001B[38;5;28;43mself\u001B[39;49m\u001B[43m.\u001B[49m\u001B[43mindex_as_dataframe\u001B[49m\n\u001B[32m    797\u001B[39m     \u001B[38;5;66;03m# TODO: Remove this eventually\u001B[39;00m\n\u001B[32m    798\u001B[39m     \u001B[38;5;28;01mif\u001B[39;00m searchString \u001B[38;5;129;01mis\u001B[39;00m \u001B[38;5;129;01mnot\u001B[39;00m \u001B[38;5;28;01mNone\u001B[39;00m:\n",
      "\u001B[36mFile \u001B[39m\u001B[32m~/anaconda3/envs/brc-tools/lib/python3.12/functools.py:998\u001B[39m, in \u001B[36mcached_property.__get__\u001B[39m\u001B[34m(self, instance, owner)\u001B[39m\n\u001B[32m    996\u001B[39m val = cache.get(\u001B[38;5;28mself\u001B[39m.attrname, _NOT_FOUND)\n\u001B[32m    997\u001B[39m \u001B[38;5;28;01mif\u001B[39;00m val \u001B[38;5;129;01mis\u001B[39;00m _NOT_FOUND:\n\u001B[32m--> \u001B[39m\u001B[32m998\u001B[39m     val = \u001B[38;5;28;43mself\u001B[39;49m\u001B[43m.\u001B[49m\u001B[43mfunc\u001B[49m\u001B[43m(\u001B[49m\u001B[43minstance\u001B[49m\u001B[43m)\u001B[49m\n\u001B[32m    999\u001B[39m     \u001B[38;5;28;01mtry\u001B[39;00m:\n\u001B[32m   1000\u001B[39m         cache[\u001B[38;5;28mself\u001B[39m.attrname] = val\n",
      "\u001B[36mFile \u001B[39m\u001B[32m~/anaconda3/envs/brc-tools/lib/python3.12/site-packages/herbie/core.py:609\u001B[39m, in \u001B[36mHerbie.index_as_dataframe\u001B[39m\u001B[34m(self)\u001B[39m\n\u001B[32m    607\u001B[39m         \u001B[38;5;28mself\u001B[39m.IDX_STYLE = \u001B[33m\"\u001B[39m\u001B[33mwgrib2\u001B[39m\u001B[33m\"\u001B[39m\n\u001B[32m    608\u001B[39m     \u001B[38;5;28;01melse\u001B[39;00m:\n\u001B[32m--> \u001B[39m\u001B[32m609\u001B[39m         \u001B[38;5;28;01mraise\u001B[39;00m \u001B[38;5;167;01mValueError\u001B[39;00m(\n\u001B[32m    610\u001B[39m             \u001B[33mf\u001B[39m\u001B[33m\"\u001B[39m\u001B[38;5;130;01m\\n\u001B[39;00m\u001B[33mNo index file was found for \u001B[39m\u001B[38;5;132;01m{\u001B[39;00m\u001B[38;5;28mself\u001B[39m.grib\u001B[38;5;132;01m}\u001B[39;00m\u001B[38;5;130;01m\\n\u001B[39;00m\u001B[33m\"\u001B[39m\n\u001B[32m    611\u001B[39m             \u001B[33mf\u001B[39m\u001B[33m\"\u001B[39m\u001B[33mDownload the full file first (with `H.download()`).\u001B[39m\u001B[38;5;130;01m\\n\u001B[39;00m\u001B[33m\"\u001B[39m\n\u001B[32m    612\u001B[39m             \u001B[33mf\u001B[39m\u001B[33m\"\u001B[39m\u001B[33mYou will need to remake the Herbie object (H = `Herbie()`)\u001B[39m\u001B[38;5;130;01m\\n\u001B[39;00m\u001B[33m\"\u001B[39m\n\u001B[32m    613\u001B[39m             \u001B[33mf\u001B[39m\u001B[33m\"\u001B[39m\u001B[33mor delete this cached property: `del H.index_as_dataframe()`\u001B[39m\u001B[33m\"\u001B[39m\n\u001B[32m    614\u001B[39m         )\n\u001B[32m    615\u001B[39m \u001B[38;5;28;01mif\u001B[39;00m \u001B[38;5;28mself\u001B[39m.idx \u001B[38;5;129;01mis\u001B[39;00m \u001B[38;5;28;01mNone\u001B[39;00m:\n\u001B[32m    616\u001B[39m     \u001B[38;5;28;01mraise\u001B[39;00m \u001B[38;5;167;01mValueError\u001B[39;00m(\u001B[33mf\u001B[39m\u001B[33m\"\u001B[39m\u001B[33mNo index file found for \u001B[39m\u001B[38;5;132;01m{\u001B[39;00m\u001B[38;5;28mself\u001B[39m.grib\u001B[38;5;132;01m}\u001B[39;00m\u001B[33m.\u001B[39m\u001B[33m\"\u001B[39m)\n",
      "\u001B[31mValueError\u001B[39m: \nNo index file was found for None\nDownload the full file first (with `H.download()`).\nYou will need to remake the Herbie object (H = `Herbie()`)\nor delete this cached property: `del H.index_as_dataframe()`"
     ]
    }
   ],
   "execution_count": 6
  },
  {
   "metadata": {},
   "cell_type": "code",
   "outputs": [],
   "execution_count": null,
   "source": [
    "ax = EasyMap(\"50m\", crs=ds.herbie.crs, figsize=(10, 8)).STATES().ax\n",
    "p = ax.pcolormesh(\n",
    "    ds.longitude,\n",
    "    ds.latitude,\n",
    "    ds.t2m - 273.15,\n",
    "    transform=pc,\n",
    "    **paint.NWSTemperature.kwargs2,\n",
    ")\n",
    "plt.colorbar(\n",
    "    p, ax=ax, orientation=\"horizontal\", pad=0.05, **paint.NWSTemperature.cbar_kwargs2\n",
    ")\n",
    "\n",
    "ax.set_title(\n",
    "    f\"{ds.t2m.GRIB_name}\\n{ds.time.dt.strftime('%H:%M UTC %d %b %Y').item()} F{int(ds.step.dt.total_seconds() / 60 / 60):02d}\",\n",
    "    loc=\"right\",\n",
    ")\n",
    "ax.set_title(\n",
    "    f\"{H.model.upper()}: member={H.member} {H.product_description}\", loc=\"left\"\n",
    ")"
   ],
   "id": "cf572d58a265ee1d"
  },
  {
   "metadata": {},
   "cell_type": "code",
   "outputs": [],
   "execution_count": null,
   "source": [
    "H = Herbie(\"2024-06-22\", model=\"rrfs\", product=\"natlev\", member=\"control\", domain=None)\n",
    "H"
   ],
   "id": "6959a80520dcf43"
  },
  {
   "metadata": {},
   "cell_type": "code",
   "outputs": [],
   "execution_count": null,
   "source": "H.inventory(\"TMP:5 hybrid\")",
   "id": "d6449df2e3a9b3c2"
  },
  {
   "metadata": {},
   "cell_type": "code",
   "outputs": [],
   "execution_count": null,
   "source": [
    "ds = H.xarray(\"TMP:5 hybrid\")\n",
    "ds"
   ],
   "id": "6fc1ae0e5767dee5"
  },
  {
   "metadata": {},
   "cell_type": "code",
   "outputs": [],
   "execution_count": null,
   "source": "ds.t.plot()",
   "id": "be6dd33d51f71f0c"
  },
  {
   "metadata": {},
   "cell_type": "code",
   "outputs": [],
   "execution_count": null,
   "source": [
    "ax = EasyMap(\"50m\", crs=ds.herbie.crs, figsize=(10, 8)).STATES().ax\n",
    "p = ax.pcolormesh(\n",
    "    ds.longitude,\n",
    "    ds.latitude,\n",
    "    ds.t - 273.15,\n",
    "    transform=pc,\n",
    "    **paint.NWSTemperature.kwargs2,\n",
    ")\n",
    "plt.colorbar(\n",
    "    p, ax=ax, orientation=\"horizontal\", pad=0.05, **paint.NWSTemperature.cbar_kwargs2\n",
    ")\n",
    "\n",
    "ax.set_title(\n",
    "    f\"{ds.t.GRIB_name}\\n{ds.time.dt.strftime('%H:%M UTC %d %b %Y').item()} F{int(ds.step.dt.total_seconds() / 60 / 60):02d}\",\n",
    "    loc=\"right\",\n",
    ")\n",
    "ax.set_title(\n",
    "    f\"{H.model.upper()}: member={H.member} {H.product_description}\", loc=\"left\"\n",
    ")"
   ],
   "id": "36b2e32abe8ab2a1"
  }
 ],
 "metadata": {
  "kernelspec": {
   "display_name": "Python 3",
   "language": "python",
   "name": "python3"
  },
  "language_info": {
   "codemirror_mode": {
    "name": "ipython",
    "version": 2
   },
   "file_extension": ".py",
   "mimetype": "text/x-python",
   "name": "python",
   "nbconvert_exporter": "python",
   "pygments_lexer": "ipython2",
   "version": "2.7.6"
  }
 },
 "nbformat": 4,
 "nbformat_minor": 5
}

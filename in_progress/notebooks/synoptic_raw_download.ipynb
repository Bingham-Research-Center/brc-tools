{
 "cells": [
  {
   "cell_type": "code",
   "id": "initial_id",
   "metadata": {
    "collapsed": true,
    "ExecuteTime": {
     "end_time": "2025-07-12T02:00:49.037043Z",
     "start_time": "2025-07-12T02:00:47.391873Z"
    }
   },
   "source": [
    "import os\n",
    "import sys\n",
    "import datetime\n",
    "import pytz\n",
    "import json\n",
    "\n",
    "import numpy as np\n",
    "from scipy.signal import medfilt\n",
    "import matplotlib.pyplot as plt\n",
    "import polars as pl\n",
    "import pandas as pd\n",
    "\n",
    "import synoptic\n",
    "\n",
    "from brc_tools.utils.lookups import _VRBLS\n",
    "\n",
    "# JRL: if problems, delete your existing config toml file\n",
    "# then create new one by uncommenting:\n",
    "# synoptic.configure(token=\"blah\")\n",
    "\n",
    "# Use Helvetica or Arial for plots\n",
    "plt.rcParams['font.family'] = 'Helvetica'\n",
    "plt.rcParams['font.sans-serif'] = 'Helvetica'\n",
    "plt.rcParams['font.size'] = 12\n"
   ],
   "outputs": [],
   "execution_count": 1
  },
  {
   "metadata": {},
   "cell_type": "markdown",
   "source": [
    "# Importing observation data from Synoptic Weather as polars dataframe.\n",
    "We then save as json to send to our team's UBAIR website server.\n",
    "\n",
    "The plan goes as follows:\n",
    "- Import data from Synoptic Weather based on date, location, variable, etc\n",
    "- Export a json file from the polars (?) dataframe\n",
    "- Note the formatting so we can make the website read it in a predictable format\n",
    "\n",
    "First off: we want time series for multiple stations.\n",
    "\n",
    "Some of these data are noisy and/or with errors. We will filter some variables later."
   ],
   "id": "af3d6ad1c909760c"
  },
  {
   "metadata": {
    "ExecuteTime": {
     "end_time": "2025-07-12T02:00:49.143646Z",
     "start_time": "2025-07-12T02:00:49.141362Z"
    }
   },
   "cell_type": "code",
   "source": [
    "stid_list = [\"KSLC\", \"UTORM\", \"CLN\", \"UTHEB\", \"UTCOP\", \"UTSTV\", \"UBHSP\", \"UB7ST\", \"UBCSP\",\n",
    "             # 'COOPDINU1', 'COOPROSU1',  'COOPVELU1',\n",
    "             'COOPFTDU1', 'COOPALMU1', 'COOPDSNU1', 'COOPNELU1',\n",
    "             ]\n",
    "data_root = \"./data\"\n",
    "data_fname = \"df_obs_pp.h5\"\n",
    "metadata_fname = \"df_metadata.h5\"\n",
    "df_obs_fpath = os.path.join(data_root, data_fname)\n",
    "df_meta_fpath = os.path.join(data_root, metadata_fname)\n",
    "\n",
    "start_date = datetime.datetime(2025, 1, 24, 0, 0, 0)\n",
    "end_date = datetime.datetime(2025, 2, 4, 0, 0, 0)\n",
    "# end_date = datetime.datetime(2025, 3, 16, 0, 0, 0)\n",
    "\n",
    "# df_meta = load_pickle(df_meta_fpath)\n",
    "# df_obs = pd.read_hdf(df_obs_fpath, key='df_obs')\n",
    "# df_obs_winter = df_obs[df_obs.index.month.isin([11, 12, 1, 2, 3])]\n"
   ],
   "id": "ad500ee0dd76dca0",
   "outputs": [],
   "execution_count": 2
  },
  {
   "metadata": {
    "ExecuteTime": {
     "end_time": "2025-07-12T02:00:49.155313Z",
     "start_time": "2025-07-12T02:00:49.151822Z"
    }
   },
   "cell_type": "code",
   "source": [
    "def replace_max_values(df, vrbl, max_value=None):\n",
    "    # Assumes df is already filtered by stid.\n",
    "    if max_value is None:\n",
    "        max_value = df.select(pl.col(vrbl).max())[0, 0]\n",
    "    df = df.with_columns(\n",
    "        pl.when(pl.col(vrbl) == max_value)\n",
    "        .then(None)\n",
    "        .otherwise(pl.col(vrbl))\n",
    "        .alias(vrbl)\n",
    "    )\n",
    "    return df.with_columns(pl.col(vrbl).interpolate())\n",
    "\n",
    "def apply_median_filter(df, vrbl, kernel_size):\n",
    "    # Convert column to numpy array and apply median filter.\n",
    "    # Filtered by stid already\n",
    "    arr = df[vrbl].to_numpy().astype(\"float32\")\n",
    "    med_filtered = medfilt(arr, kernel_size=kernel_size)\n",
    "    return df.with_columns(pl.Series(name=vrbl, values=med_filtered))\n",
    "\n",
    "def filter_snow_depth(df, kernel_size):\n",
    "    # Run the preprocessing steps in sequence.\n",
    "    df = replace_max_values(df, \"snow_depth\")\n",
    "    df = apply_median_filter(df, \"snow_depth\", kernel_size=kernel_size)\n",
    "    return df\n",
    "\n",
    "def plot_snow_depth(ax, df, stid, kernel_size=5):\n",
    "    # Filter rows using Polars' filter method.\n",
    "    df_filtered = df.filter(pl.col(\"stid\") == stid)\n",
    "\n",
    "    if kernel_size is not None:\n",
    "        df_filtered = filter_snow_depth(df_filtered, kernel_size=kernel_size)\n",
    "        df_filtered = df_filtered.with_columns(pl.col(\"snow_depth\").interpolate())\n",
    "\n",
    "    # Convert time to Mountain Time Zone.\n",
    "    df_filtered = df_filtered.with_columns(pl.col(\"date_time\").dt.convert_time_zone(\"America/Denver\"))\n",
    "    # Make linestyle dashed if stid begins with \"COOP\"; else use solid\n",
    "    ls = \"--\" if stid.startswith(\"COOP\") else \"-\"\n",
    "    ax.plot(df_filtered[\"date_time\"], df_filtered[\"snow_depth\"], label=f\"{stid}\", alpha=0.5, lw=0.75,\n",
    "            linestyle=ls)\n",
    "\n"
   ],
   "id": "3d7c3db2e90c4e66",
   "outputs": [],
   "execution_count": 3
  },
  {
   "metadata": {
    "ExecuteTime": {
     "end_time": "2025-07-12T02:00:49.169350Z",
     "start_time": "2025-07-12T02:00:49.167633Z"
    }
   },
   "cell_type": "code",
   "source": [
    "# Collect all strings for the \"synoptic\" key from the nested dictionaries\n",
    "synoptic_vrbls = [\n",
    "    value['synoptic'] for value in _VRBLS.values()]"
   ],
   "id": "7127dd4008c3992d",
   "outputs": [],
   "execution_count": 4
  },
  {
   "metadata": {
    "ExecuteTime": {
     "end_time": "2025-07-12T02:00:49.371025Z",
     "start_time": "2025-07-12T02:00:49.176369Z"
    }
   },
   "cell_type": "code",
   "source": [
    "df_meta = synoptic.Metadata(stid=stid_list, verbose=True).df()\n",
    "df_meta"
   ],
   "id": "f72c1b9d6a7bdf23",
   "outputs": [
    {
     "name": "stdout",
     "output_type": "stream",
     "text": [
      "🚚💨 Speedy delivery from Synoptic's \u001B[32mmetadata\u001B[0m service.\n",
      "📦 Received data from \u001B[36m13\u001B[0m stations (0.19 seconds).\n"
     ]
    },
    {
     "data": {
      "text/plain": [
       "shape: (13, 15)\n",
       "┌────────┬───────────┬────────────┬───────────┬───┬────────────┬───────────┬───────────┬───────────┐\n",
       "│ id     ┆ stid      ┆ name       ┆ elevation ┆ … ┆ period_of_ ┆ is_restri ┆ restricte ┆ is_active │\n",
       "│ ---    ┆ ---       ┆ ---        ┆ ---       ┆   ┆ record_end ┆ cted      ┆ d_metadat ┆ ---       │\n",
       "│ u32    ┆ str       ┆ str        ┆ f64       ┆   ┆ ---        ┆ ---       ┆ a         ┆ bool      │\n",
       "│        ┆           ┆            ┆           ┆   ┆ datetime[μ ┆ bool      ┆ ---       ┆           │\n",
       "│        ┆           ┆            ┆           ┆   ┆ s, UTC]    ┆           ┆ bool      ┆           │\n",
       "╞════════╪═══════════╪════════════╪═══════════╪═══╪════════════╪═══════════╪═══════════╪═══════════╡\n",
       "│ 53     ┆ KSLC      ┆ Salt Lake  ┆ 4226.0    ┆ … ┆ 2025-07-12 ┆ false     ┆ false     ┆ true      │\n",
       "│        ┆           ┆ City, Salt ┆           ┆   ┆ 01:20:00   ┆           ┆           ┆           │\n",
       "│        ┆           ┆ Lake City… ┆           ┆   ┆ UTC        ┆           ┆           ┆           │\n",
       "│ 525    ┆ CLN       ┆ ALTA -     ┆ 9662.0    ┆ … ┆ 2025-07-12 ┆ false     ┆ false     ┆ true      │\n",
       "│        ┆           ┆ COLLINS    ┆           ┆   ┆ 01:00:00   ┆           ┆           ┆           │\n",
       "│        ┆           ┆            ┆           ┆   ┆ UTC        ┆           ┆           ┆           │\n",
       "│ 15542  ┆ UTSTV     ┆ US-40 @    ┆ 5720.0    ┆ … ┆ 2025-07-12 ┆ false     ┆ false     ┆ true      │\n",
       "│        ┆           ┆ Starvation ┆           ┆   ┆ 01:20:00   ┆           ┆           ┆           │\n",
       "│        ┆           ┆            ┆           ┆   ┆ UTC        ┆           ┆           ┆           │\n",
       "│ 25080  ┆ UTHEB     ┆ US-40      ┆ 5733.0    ┆ … ┆ 2025-07-12 ┆ false     ┆ false     ┆ true      │\n",
       "│        ┆           ┆ Heber      ┆           ┆   ┆ 01:20:00   ┆           ┆           ┆           │\n",
       "│        ┆           ┆            ┆           ┆   ┆ UTC        ┆           ┆           ┆           │\n",
       "│ 37071  ┆ UTORM     ┆ I-15 @     ┆ 4650.0    ┆ … ┆ 2025-07-12 ┆ false     ┆ false     ┆ true      │\n",
       "│        ┆           ┆ Orem       ┆           ┆   ┆ 01:20:00   ┆           ┆           ┆           │\n",
       "│        ┆           ┆            ┆           ┆   ┆ UTC        ┆           ┆           ┆           │\n",
       "│ …      ┆ …         ┆ …          ┆ …         ┆ … ┆ …          ┆ …         ┆ …         ┆ …         │\n",
       "│ 58707  ┆ COOPALMU1 ┆ ALTAMONT   ┆ 6456.0    ┆ … ┆ 2025-07-11 ┆ false     ┆ false     ┆ true      │\n",
       "│        ┆           ┆            ┆           ┆   ┆ 01:00:00   ┆           ┆           ┆           │\n",
       "│        ┆           ┆            ┆           ┆   ┆ UTC        ┆           ┆           ┆           │\n",
       "│ 58734  ┆ COOPDSNU1 ┆ DUCHESNE   ┆ 5551.0    ┆ … ┆ 2025-07-01 ┆ false     ┆ false     ┆ true      │\n",
       "│        ┆           ┆            ┆           ┆   ┆ 00:00:00   ┆           ┆           ┆           │\n",
       "│        ┆           ┆            ┆           ┆   ┆ UTC        ┆           ┆           ┆           │\n",
       "│ 58747  ┆ COOPFTDU1 ┆ FORT       ┆ 5052.0    ┆ … ┆ 2025-05-23 ┆ false     ┆ false     ┆ false     │\n",
       "│        ┆           ┆ DUCHESNE   ┆           ┆   ┆ 14:20:00   ┆           ┆           ┆           │\n",
       "│        ┆           ┆            ┆           ┆   ┆ UTC        ┆           ┆           ┆           │\n",
       "│ 58777  ┆ COOPNELU1 ┆ NEOLA      ┆ 5950.0    ┆ … ┆ 2025-07-06 ┆ false     ┆ false     ┆ true      │\n",
       "│        ┆           ┆ COOPB      ┆           ┆   ┆ 04:00:00   ┆           ┆           ┆           │\n",
       "│        ┆           ┆            ┆           ┆   ┆ UTC        ┆           ┆           ┆           │\n",
       "│ 101117 ┆ UTCOP     ┆ US-40 at   ┆ 7637.0    ┆ … ┆ 2025-07-12 ┆ false     ┆ false     ┆ true      │\n",
       "│        ┆           ┆ MP 41      ┆           ┆   ┆ 01:20:00   ┆           ┆           ┆           │\n",
       "│        ┆           ┆ Co-Op      ┆           ┆   ┆ UTC        ┆           ┆           ┆           │\n",
       "│        ┆           ┆ Creek      ┆           ┆   ┆            ┆           ┆           ┆           │\n",
       "└────────┴───────────┴────────────┴───────────┴───┴────────────┴───────────┴───────────┴───────────┘"
      ],
      "text/html": [
       "<div><style>\n",
       ".dataframe > thead > tr,\n",
       ".dataframe > tbody > tr {\n",
       "  text-align: right;\n",
       "  white-space: pre-wrap;\n",
       "}\n",
       "</style>\n",
       "<small>shape: (13, 15)</small><table border=\"1\" class=\"dataframe\"><thead><tr><th>id</th><th>stid</th><th>name</th><th>elevation</th><th>latitude</th><th>longitude</th><th>mnet_id</th><th>state</th><th>timezone</th><th>elev_dem</th><th>period_of_record_start</th><th>period_of_record_end</th><th>is_restricted</th><th>restricted_metadata</th><th>is_active</th></tr><tr><td>u32</td><td>str</td><td>str</td><td>f64</td><td>f64</td><td>f64</td><td>u32</td><td>str</td><td>str</td><td>f64</td><td>datetime[μs, UTC]</td><td>datetime[μs, UTC]</td><td>bool</td><td>bool</td><td>bool</td></tr></thead><tbody><tr><td>53</td><td>&quot;KSLC&quot;</td><td>&quot;Salt Lake City, Salt Lake City…</td><td>4226.0</td><td>40.77069</td><td>-111.96503</td><td>1</td><td>&quot;UT&quot;</td><td>&quot;America/Denver&quot;</td><td>4235.6</td><td>1997-01-01 00:00:00 UTC</td><td>2025-07-12 01:20:00 UTC</td><td>false</td><td>false</td><td>true</td></tr><tr><td>525</td><td>&quot;CLN&quot;</td><td>&quot;ALTA - COLLINS&quot;</td><td>9662.0</td><td>40.5763</td><td>-111.6383</td><td>6</td><td>&quot;UT&quot;</td><td>&quot;America/Denver&quot;</td><td>9629.3</td><td>1997-01-01 00:00:00 UTC</td><td>2025-07-12 01:00:00 UTC</td><td>false</td><td>false</td><td>true</td></tr><tr><td>15542</td><td>&quot;UTSTV&quot;</td><td>&quot;US-40 @ Starvation&quot;</td><td>5720.0</td><td>40.17258</td><td>-110.493</td><td>4</td><td>&quot;UT&quot;</td><td>&quot;America/Denver&quot;</td><td>5715.2</td><td>2006-03-14 00:00:00 UTC</td><td>2025-07-12 01:20:00 UTC</td><td>false</td><td>false</td><td>true</td></tr><tr><td>25080</td><td>&quot;UTHEB&quot;</td><td>&quot;US-40 Heber&quot;</td><td>5733.0</td><td>40.5636</td><td>-111.4288</td><td>4</td><td>&quot;UT&quot;</td><td>&quot;America/Denver&quot;</td><td>5754.6</td><td>2008-12-09 00:00:00 UTC</td><td>2025-07-12 01:20:00 UTC</td><td>false</td><td>false</td><td>true</td></tr><tr><td>37071</td><td>&quot;UTORM&quot;</td><td>&quot;I-15 @ Orem&quot;</td><td>4650.0</td><td>40.31925</td><td>-111.7267</td><td>4</td><td>&quot;UT&quot;</td><td>&quot;America/Denver&quot;</td><td>4652.2</td><td>2013-03-13 00:00:00 UTC</td><td>2025-07-12 01:20:00 UTC</td><td>false</td><td>false</td><td>true</td></tr><tr><td>&hellip;</td><td>&hellip;</td><td>&hellip;</td><td>&hellip;</td><td>&hellip;</td><td>&hellip;</td><td>&hellip;</td><td>&hellip;</td><td>&hellip;</td><td>&hellip;</td><td>&hellip;</td><td>&hellip;</td><td>&hellip;</td><td>&hellip;</td><td>&hellip;</td></tr><tr><td>58707</td><td>&quot;COOPALMU1&quot;</td><td>&quot;ALTAMONT&quot;</td><td>6456.0</td><td>40.36696</td><td>-110.29858</td><td>74</td><td>&quot;UT&quot;</td><td>&quot;America/Denver&quot;</td><td>6407.5</td><td>2016-07-12 15:13:00 UTC</td><td>2025-07-11 01:00:00 UTC</td><td>false</td><td>false</td><td>true</td></tr><tr><td>58734</td><td>&quot;COOPDSNU1&quot;</td><td>&quot;DUCHESNE&quot;</td><td>5551.0</td><td>40.1703</td><td>-110.3978</td><td>75</td><td>&quot;UT&quot;</td><td>&quot;America/Denver&quot;</td><td>5534.8</td><td>2016-06-18 00:53:00 UTC</td><td>2025-07-01 00:00:00 UTC</td><td>false</td><td>false</td><td>true</td></tr><tr><td>58747</td><td>&quot;COOPFTDU1&quot;</td><td>&quot;FORT DUCHESNE&quot;</td><td>5052.0</td><td>40.2841</td><td>-109.8611</td><td>75</td><td>&quot;UT&quot;</td><td>&quot;America/Denver&quot;</td><td>5003.3</td><td>2016-06-13 14:18:00 UTC</td><td>2025-05-23 14:20:00 UTC</td><td>false</td><td>false</td><td>false</td></tr><tr><td>58777</td><td>&quot;COOPNELU1&quot;</td><td>&quot;NEOLA COOPB&quot;</td><td>5950.0</td><td>40.42</td><td>-110.05</td><td>77</td><td>&quot;UT&quot;</td><td>&quot;America/Denver&quot;</td><td>5958.0</td><td>2016-06-11 04:53:00 UTC</td><td>2025-07-06 04:00:00 UTC</td><td>false</td><td>false</td><td>true</td></tr><tr><td>101117</td><td>&quot;UTCOP&quot;</td><td>&quot;US-40 at MP 41 Co-Op Creek&quot;</td><td>7637.0</td><td>40.2418</td><td>-111.1771</td><td>4</td><td>&quot;UT&quot;</td><td>&quot;America/Denver&quot;</td><td>7654.2</td><td>2019-10-16 18:50:00 UTC</td><td>2025-07-12 01:20:00 UTC</td><td>false</td><td>false</td><td>true</td></tr></tbody></table></div>"
      ]
     },
     "execution_count": 5,
     "metadata": {},
     "output_type": "execute_result"
    }
   ],
   "execution_count": 5
  },
  {
   "metadata": {
    "ExecuteTime": {
     "end_time": "2025-07-12T02:00:50.938649Z",
     "start_time": "2025-07-12T02:00:49.395988Z"
    }
   },
   "cell_type": "code",
   "source": [
    "df_data = synoptic.TimeSeries(stid=stid_list,start=start_date, end=end_date,\n",
    "                                 vars=synoptic_vrbls, verbose=True,\n",
    "                                 # rename_set_1=False, rename_value_1=False\n",
    "                                ).df().synoptic.pivot()\n",
    "df_data.head(20)"
   ],
   "id": "d6e17e9d97582721",
   "outputs": [
    {
     "name": "stdout",
     "output_type": "stream",
     "text": [
      "🚚💨 Speedy delivery from Synoptic's \u001B[32mtimeseries\u001B[0m service.\n",
      "📦 Received data from \u001B[36m13\u001B[0m stations (1.42 seconds).\n"
     ]
    },
    {
     "data": {
      "text/plain": [
       "shape: (20, 11)\n",
       "┌────────────┬──────┬──────────┬────────────┬───┬────────────┬────────────┬────────────┬───────────┐\n",
       "│ date_time  ┆ stid ┆ latitude ┆ longitude  ┆ … ┆ wind_direc ┆ sea_level_ ┆ snow_depth ┆ ozone_con │\n",
       "│ ---        ┆ ---  ┆ ---      ┆ ---        ┆   ┆ tion       ┆ pressure   ┆ ---        ┆ centratio │\n",
       "│ datetime[μ ┆ str  ┆ f64      ┆ f64        ┆   ┆ ---        ┆ ---        ┆ f64        ┆ n         │\n",
       "│ s, UTC]    ┆      ┆          ┆            ┆   ┆ f64        ┆ f64        ┆            ┆ ---       │\n",
       "│            ┆      ┆          ┆            ┆   ┆            ┆            ┆            ┆ f64       │\n",
       "╞════════════╪══════╪══════════╪════════════╪═══╪════════════╪════════════╪════════════╪═══════════╡\n",
       "│ 2025-01-24 ┆ KSLC ┆ 40.77069 ┆ -111.96503 ┆ … ┆ 160.0      ┆ 103539.68  ┆ null       ┆ null      │\n",
       "│ 00:00:00   ┆      ┆          ┆            ┆   ┆            ┆            ┆            ┆           │\n",
       "│ UTC        ┆      ┆          ┆            ┆   ┆            ┆            ┆            ┆           │\n",
       "│ 2025-01-24 ┆ KSLC ┆ 40.77069 ┆ -111.96503 ┆ … ┆ 140.0      ┆ 103539.68  ┆ null       ┆ null      │\n",
       "│ 00:05:00   ┆      ┆          ┆            ┆   ┆            ┆            ┆            ┆           │\n",
       "│ UTC        ┆      ┆          ┆            ┆   ┆            ┆            ┆            ┆           │\n",
       "│ 2025-01-24 ┆ KSLC ┆ 40.77069 ┆ -111.96503 ┆ … ┆ 110.0      ┆ 103539.68  ┆ null       ┆ null      │\n",
       "│ 00:10:00   ┆      ┆          ┆            ┆   ┆            ┆            ┆            ┆           │\n",
       "│ UTC        ┆      ┆          ┆            ┆   ┆            ┆            ┆            ┆           │\n",
       "│ 2025-01-24 ┆ KSLC ┆ 40.77069 ┆ -111.96503 ┆ … ┆ 140.0      ┆ 103539.68  ┆ null       ┆ null      │\n",
       "│ 00:15:00   ┆      ┆          ┆            ┆   ┆            ┆            ┆            ┆           │\n",
       "│ UTC        ┆      ┆          ┆            ┆   ┆            ┆            ┆            ┆           │\n",
       "│ 2025-01-24 ┆ KSLC ┆ 40.77069 ┆ -111.96503 ┆ … ┆ 140.0      ┆ 103598.3   ┆ null       ┆ null      │\n",
       "│ 00:20:00   ┆      ┆          ┆            ┆   ┆            ┆            ┆            ┆           │\n",
       "│ UTC        ┆      ┆          ┆            ┆   ┆            ┆            ┆            ┆           │\n",
       "│ …          ┆ …    ┆ …        ┆ …          ┆ … ┆ …          ┆ …          ┆ …          ┆ …         │\n",
       "│ 2025-01-24 ┆ KSLC ┆ 40.77069 ┆ -111.96503 ┆ … ┆ 130.0      ┆ 103587.9   ┆ null       ┆ null      │\n",
       "│ 01:10:00   ┆      ┆          ┆            ┆   ┆            ┆            ┆            ┆           │\n",
       "│ UTC        ┆      ┆          ┆            ┆   ┆            ┆            ┆            ┆           │\n",
       "│ 2025-01-24 ┆ KSLC ┆ 40.77069 ┆ -111.96503 ┆ … ┆ 130.0      ┆ 103587.89  ┆ null       ┆ null      │\n",
       "│ 01:15:00   ┆      ┆          ┆            ┆   ┆            ┆            ┆            ┆           │\n",
       "│ UTC        ┆      ┆          ┆            ┆   ┆            ┆            ┆            ┆           │\n",
       "│ 2025-01-24 ┆ KSLC ┆ 40.77069 ┆ -111.96503 ┆ … ┆ 150.0      ┆ 103558.44  ┆ null       ┆ null      │\n",
       "│ 01:20:00   ┆      ┆          ┆            ┆   ┆            ┆            ┆            ┆           │\n",
       "│ UTC        ┆      ┆          ┆            ┆   ┆            ┆            ┆            ┆           │\n",
       "│ 2025-01-24 ┆ KSLC ┆ 40.77069 ┆ -111.96503 ┆ … ┆ 150.0      ┆ 103558.44  ┆ null       ┆ null      │\n",
       "│ 01:25:00   ┆      ┆          ┆            ┆   ┆            ┆            ┆            ┆           │\n",
       "│ UTC        ┆      ┆          ┆            ┆   ┆            ┆            ┆            ┆           │\n",
       "│ 2025-01-24 ┆ KSLC ┆ 40.77069 ┆ -111.96503 ┆ … ┆ 150.0      ┆ 103553.91  ┆ null       ┆ null      │\n",
       "│ 01:30:00   ┆      ┆          ┆            ┆   ┆            ┆            ┆            ┆           │\n",
       "│ UTC        ┆      ┆          ┆            ┆   ┆            ┆            ┆            ┆           │\n",
       "└────────────┴──────┴──────────┴────────────┴───┴────────────┴────────────┴────────────┴───────────┘"
      ],
      "text/html": [
       "<div><style>\n",
       ".dataframe > thead > tr,\n",
       ".dataframe > tbody > tr {\n",
       "  text-align: right;\n",
       "  white-space: pre-wrap;\n",
       "}\n",
       "</style>\n",
       "<small>shape: (20, 11)</small><table border=\"1\" class=\"dataframe\"><thead><tr><th>date_time</th><th>stid</th><th>latitude</th><th>longitude</th><th>elevation</th><th>air_temp</th><th>wind_speed</th><th>wind_direction</th><th>sea_level_pressure</th><th>snow_depth</th><th>ozone_concentration</th></tr><tr><td>datetime[μs, UTC]</td><td>str</td><td>f64</td><td>f64</td><td>f64</td><td>f64</td><td>f64</td><td>f64</td><td>f64</td><td>f64</td><td>f64</td></tr></thead><tbody><tr><td>2025-01-24 00:00:00 UTC</td><td>&quot;KSLC&quot;</td><td>40.77069</td><td>-111.96503</td><td>4226.0</td><td>2.0</td><td>2.572</td><td>160.0</td><td>103539.68</td><td>null</td><td>null</td></tr><tr><td>2025-01-24 00:05:00 UTC</td><td>&quot;KSLC&quot;</td><td>40.77069</td><td>-111.96503</td><td>4226.0</td><td>2.0</td><td>2.572</td><td>140.0</td><td>103539.68</td><td>null</td><td>null</td></tr><tr><td>2025-01-24 00:10:00 UTC</td><td>&quot;KSLC&quot;</td><td>40.77069</td><td>-111.96503</td><td>4226.0</td><td>2.0</td><td>2.572</td><td>110.0</td><td>103539.68</td><td>null</td><td>null</td></tr><tr><td>2025-01-24 00:15:00 UTC</td><td>&quot;KSLC&quot;</td><td>40.77069</td><td>-111.96503</td><td>4226.0</td><td>2.0</td><td>1.543</td><td>140.0</td><td>103539.68</td><td>null</td><td>null</td></tr><tr><td>2025-01-24 00:20:00 UTC</td><td>&quot;KSLC&quot;</td><td>40.77069</td><td>-111.96503</td><td>4226.0</td><td>1.0</td><td>2.058</td><td>140.0</td><td>103598.3</td><td>null</td><td>null</td></tr><tr><td>&hellip;</td><td>&hellip;</td><td>&hellip;</td><td>&hellip;</td><td>&hellip;</td><td>&hellip;</td><td>&hellip;</td><td>&hellip;</td><td>&hellip;</td><td>&hellip;</td><td>&hellip;</td></tr><tr><td>2025-01-24 01:10:00 UTC</td><td>&quot;KSLC&quot;</td><td>40.77069</td><td>-111.96503</td><td>4226.0</td><td>0.6</td><td>1.543</td><td>130.0</td><td>103587.9</td><td>null</td><td>null</td></tr><tr><td>2025-01-24 01:15:00 UTC</td><td>&quot;KSLC&quot;</td><td>40.77069</td><td>-111.96503</td><td>4226.0</td><td>0.6</td><td>2.058</td><td>130.0</td><td>103587.89</td><td>null</td><td>null</td></tr><tr><td>2025-01-24 01:20:00 UTC</td><td>&quot;KSLC&quot;</td><td>40.77069</td><td>-111.96503</td><td>4226.0</td><td>1.1</td><td>2.058</td><td>150.0</td><td>103558.44</td><td>null</td><td>null</td></tr><tr><td>2025-01-24 01:25:00 UTC</td><td>&quot;KSLC&quot;</td><td>40.77069</td><td>-111.96503</td><td>4226.0</td><td>1.1</td><td>1.543</td><td>150.0</td><td>103558.44</td><td>null</td><td>null</td></tr><tr><td>2025-01-24 01:30:00 UTC</td><td>&quot;KSLC&quot;</td><td>40.77069</td><td>-111.96503</td><td>4226.0</td><td>0.6</td><td>2.058</td><td>150.0</td><td>103553.91</td><td>null</td><td>null</td></tr></tbody></table></div>"
      ]
     },
     "execution_count": 6,
     "metadata": {},
     "output_type": "execute_result"
    }
   ],
   "execution_count": 6
  },
  {
   "metadata": {
    "ExecuteTime": {
     "end_time": "2025-07-12T02:00:51.211571Z",
     "start_time": "2025-07-12T02:00:51.004489Z"
    }
   },
   "cell_type": "code",
   "source": [
    "latest_obs = synoptic.Latest(stid=stid_list, vars=synoptic_vrbls, verbose=True,\n",
    "                within=datetime.timedelta(hours=25), # 1 hour\n",
    "                             ).df()\n",
    "\n",
    "# Check for rows with identical stid and variable\n",
    "# Keep only the most recent.\n",
    "latest_obs = latest_obs.sort([\"stid\", \"variable\", \"date_time\"], descending=[False, False, True])\n",
    "latest_obs = latest_obs.unique(subset=[\"stid\", \"variable\"], keep=\"first\")\n",
    "\n",
    "latest_obs"
   ],
   "id": "cc00bd889268c298",
   "outputs": [
    {
     "name": "stdout",
     "output_type": "stream",
     "text": [
      "🚚💨 Speedy delivery from Synoptic's \u001B[32mlatest\u001B[0m service.\n",
      "📦 Received data from \u001B[36m9\u001B[0m stations (0.20 seconds).\n"
     ]
    },
    {
     "data": {
      "text/plain": [
       "shape: (34, 22)\n",
       "┌───────────┬───────────┬───────────┬───────────┬───┬───────────┬───────────┬───────────┬──────────┐\n",
       "│ stid      ┆ variable  ┆ sensor_in ┆ is_derive ┆ … ┆ qc_flagge ┆ is_restri ┆ restricte ┆ is_activ │\n",
       "│ ---       ┆ ---       ┆ dex       ┆ d         ┆   ┆ d         ┆ cted      ┆ d_metadat ┆ e        │\n",
       "│ str       ┆ str       ┆ ---       ┆ ---       ┆   ┆ ---       ┆ ---       ┆ a         ┆ ---      │\n",
       "│           ┆           ┆ u32       ┆ bool      ┆   ┆ bool      ┆ bool      ┆ ---       ┆ bool     │\n",
       "│           ┆           ┆           ┆           ┆   ┆           ┆           ┆ bool      ┆          │\n",
       "╞═══════════╪═══════════╪═══════════╪═══════════╪═══╪═══════════╪═══════════╪═══════════╪══════════╡\n",
       "│ UTORM     ┆ air_temp  ┆ 1         ┆ false     ┆ … ┆ false     ┆ false     ┆ false     ┆ true     │\n",
       "│ UBCSP     ┆ snow_dept ┆ 1         ┆ false     ┆ … ┆ false     ┆ false     ┆ false     ┆ true     │\n",
       "│           ┆ h         ┆           ┆           ┆   ┆           ┆           ┆           ┆          │\n",
       "│ UTORM     ┆ wind_dire ┆ 1         ┆ false     ┆ … ┆ false     ┆ false     ┆ false     ┆ true     │\n",
       "│           ┆ ction     ┆           ┆           ┆   ┆           ┆           ┆           ┆          │\n",
       "│ UBCSP     ┆ wind_spee ┆ 1         ┆ false     ┆ … ┆ false     ┆ false     ┆ false     ┆ true     │\n",
       "│           ┆ d         ┆           ┆           ┆   ┆           ┆           ┆           ┆          │\n",
       "│ COOPALMU1 ┆ air_temp  ┆ 1         ┆ false     ┆ … ┆ false     ┆ false     ┆ false     ┆ true     │\n",
       "│ …         ┆ …         ┆ …         ┆ …         ┆ … ┆ …         ┆ …         ┆ …         ┆ …        │\n",
       "│ UBHSP     ┆ wind_dire ┆ 1         ┆ false     ┆ … ┆ false     ┆ false     ┆ false     ┆ true     │\n",
       "│           ┆ ction     ┆           ┆           ┆   ┆           ┆           ┆           ┆          │\n",
       "│ COOPALMU1 ┆ snow_dept ┆ 1         ┆ false     ┆ … ┆ false     ┆ false     ┆ false     ┆ true     │\n",
       "│           ┆ h         ┆           ┆           ┆   ┆           ┆           ┆           ┆          │\n",
       "│ CLN       ┆ snow_dept ┆ 1         ┆ false     ┆ … ┆ false     ┆ false     ┆ false     ┆ true     │\n",
       "│           ┆ h         ┆           ┆           ┆   ┆           ┆           ┆           ┆          │\n",
       "│ UTSTV     ┆ wind_dire ┆ 1         ┆ false     ┆ … ┆ false     ┆ false     ┆ false     ┆ true     │\n",
       "│           ┆ ction     ┆           ┆           ┆   ┆           ┆           ┆           ┆          │\n",
       "│ UTORM     ┆ snow_dept ┆ 1         ┆ false     ┆ … ┆ false     ┆ false     ┆ false     ┆ true     │\n",
       "│           ┆ h         ┆           ┆           ┆   ┆           ┆           ┆           ┆          │\n",
       "└───────────┴───────────┴───────────┴───────────┴───┴───────────┴───────────┴───────────┴──────────┘"
      ],
      "text/html": [
       "<div><style>\n",
       ".dataframe > thead > tr,\n",
       ".dataframe > tbody > tr {\n",
       "  text-align: right;\n",
       "  white-space: pre-wrap;\n",
       "}\n",
       "</style>\n",
       "<small>shape: (34, 22)</small><table border=\"1\" class=\"dataframe\"><thead><tr><th>stid</th><th>variable</th><th>sensor_index</th><th>is_derived</th><th>value</th><th>date_time</th><th>units</th><th>id</th><th>name</th><th>elevation</th><th>latitude</th><th>longitude</th><th>mnet_id</th><th>state</th><th>timezone</th><th>elev_dem</th><th>period_of_record_start</th><th>period_of_record_end</th><th>qc_flagged</th><th>is_restricted</th><th>restricted_metadata</th><th>is_active</th></tr><tr><td>str</td><td>str</td><td>u32</td><td>bool</td><td>f64</td><td>datetime[μs, UTC]</td><td>str</td><td>u32</td><td>str</td><td>f64</td><td>f64</td><td>f64</td><td>u32</td><td>str</td><td>str</td><td>f64</td><td>datetime[μs, UTC]</td><td>datetime[μs, UTC]</td><td>bool</td><td>bool</td><td>bool</td><td>bool</td></tr></thead><tbody><tr><td>&quot;UTORM&quot;</td><td>&quot;air_temp&quot;</td><td>1</td><td>false</td><td>31.111</td><td>2025-07-12 01:50:00 UTC</td><td>&quot;Celsius&quot;</td><td>37071</td><td>&quot;I-15 @ Orem&quot;</td><td>4650.0</td><td>40.31925</td><td>-111.7267</td><td>4</td><td>&quot;UT&quot;</td><td>&quot;America/Denver&quot;</td><td>4652.2</td><td>2013-03-13 00:00:00 UTC</td><td>2025-07-12 01:20:00 UTC</td><td>false</td><td>false</td><td>false</td><td>true</td></tr><tr><td>&quot;UBCSP&quot;</td><td>&quot;snow_depth&quot;</td><td>1</td><td>false</td><td>0.0</td><td>2025-07-12 01:45:00 UTC</td><td>&quot;Millimeters&quot;</td><td>48222</td><td>&quot;Castle Peak&quot;</td><td>5266.0</td><td>40.051</td><td>-110.02</td><td>209</td><td>&quot;UT&quot;</td><td>&quot;America/Denver&quot;</td><td>5262.5</td><td>2016-01-29 19:47:00 UTC</td><td>2025-07-12 01:15:00 UTC</td><td>false</td><td>false</td><td>false</td><td>true</td></tr><tr><td>&quot;UTORM&quot;</td><td>&quot;wind_direction&quot;</td><td>1</td><td>false</td><td>327.3</td><td>2025-07-12 01:50:00 UTC</td><td>&quot;Degrees&quot;</td><td>37071</td><td>&quot;I-15 @ Orem&quot;</td><td>4650.0</td><td>40.31925</td><td>-111.7267</td><td>4</td><td>&quot;UT&quot;</td><td>&quot;America/Denver&quot;</td><td>4652.2</td><td>2013-03-13 00:00:00 UTC</td><td>2025-07-12 01:20:00 UTC</td><td>false</td><td>false</td><td>false</td><td>true</td></tr><tr><td>&quot;UBCSP&quot;</td><td>&quot;wind_speed&quot;</td><td>1</td><td>false</td><td>9.96</td><td>2025-07-12 01:45:00 UTC</td><td>&quot;m/s&quot;</td><td>48222</td><td>&quot;Castle Peak&quot;</td><td>5266.0</td><td>40.051</td><td>-110.02</td><td>209</td><td>&quot;UT&quot;</td><td>&quot;America/Denver&quot;</td><td>5262.5</td><td>2016-01-29 19:47:00 UTC</td><td>2025-07-12 01:15:00 UTC</td><td>false</td><td>false</td><td>false</td><td>true</td></tr><tr><td>&quot;COOPALMU1&quot;</td><td>&quot;air_temp&quot;</td><td>1</td><td>false</td><td>26.111</td><td>2025-07-12 01:00:00 UTC</td><td>&quot;Celsius&quot;</td><td>58707</td><td>&quot;ALTAMONT&quot;</td><td>6456.0</td><td>40.36696</td><td>-110.29858</td><td>74</td><td>&quot;UT&quot;</td><td>&quot;America/Denver&quot;</td><td>6407.5</td><td>2016-07-12 15:13:00 UTC</td><td>2025-07-11 01:00:00 UTC</td><td>false</td><td>false</td><td>false</td><td>true</td></tr><tr><td>&hellip;</td><td>&hellip;</td><td>&hellip;</td><td>&hellip;</td><td>&hellip;</td><td>&hellip;</td><td>&hellip;</td><td>&hellip;</td><td>&hellip;</td><td>&hellip;</td><td>&hellip;</td><td>&hellip;</td><td>&hellip;</td><td>&hellip;</td><td>&hellip;</td><td>&hellip;</td><td>&hellip;</td><td>&hellip;</td><td>&hellip;</td><td>&hellip;</td><td>&hellip;</td><td>&hellip;</td></tr><tr><td>&quot;UBHSP&quot;</td><td>&quot;wind_direction&quot;</td><td>1</td><td>false</td><td>7.55</td><td>2025-07-12 01:45:00 UTC</td><td>&quot;Degrees&quot;</td><td>48227</td><td>&quot;Horsepool&quot;</td><td>5148.0</td><td>40.144</td><td>-109.467</td><td>209</td><td>&quot;UT&quot;</td><td>&quot;America/Denver&quot;</td><td>5157.5</td><td>2016-01-29 19:47:00 UTC</td><td>2025-07-12 01:15:00 UTC</td><td>false</td><td>false</td><td>false</td><td>true</td></tr><tr><td>&quot;COOPALMU1&quot;</td><td>&quot;snow_depth&quot;</td><td>1</td><td>false</td><td>0.0</td><td>2025-07-12 01:00:00 UTC</td><td>&quot;Millimeters&quot;</td><td>58707</td><td>&quot;ALTAMONT&quot;</td><td>6456.0</td><td>40.36696</td><td>-110.29858</td><td>74</td><td>&quot;UT&quot;</td><td>&quot;America/Denver&quot;</td><td>6407.5</td><td>2016-07-12 15:13:00 UTC</td><td>2025-07-11 01:00:00 UTC</td><td>false</td><td>false</td><td>false</td><td>true</td></tr><tr><td>&quot;CLN&quot;</td><td>&quot;snow_depth&quot;</td><td>1</td><td>false</td><td>0.0</td><td>2025-07-12 01:00:00 UTC</td><td>&quot;Millimeters&quot;</td><td>525</td><td>&quot;ALTA - COLLINS&quot;</td><td>9662.0</td><td>40.5763</td><td>-111.6383</td><td>6</td><td>&quot;UT&quot;</td><td>&quot;America/Denver&quot;</td><td>9629.3</td><td>1997-01-01 00:00:00 UTC</td><td>2025-07-12 01:00:00 UTC</td><td>false</td><td>false</td><td>false</td><td>true</td></tr><tr><td>&quot;UTSTV&quot;</td><td>&quot;wind_direction&quot;</td><td>1</td><td>false</td><td>293.3</td><td>2025-07-12 01:50:00 UTC</td><td>&quot;Degrees&quot;</td><td>15542</td><td>&quot;US-40 @ Starvation&quot;</td><td>5720.0</td><td>40.17258</td><td>-110.493</td><td>4</td><td>&quot;UT&quot;</td><td>&quot;America/Denver&quot;</td><td>5715.2</td><td>2006-03-14 00:00:00 UTC</td><td>2025-07-12 01:20:00 UTC</td><td>false</td><td>false</td><td>false</td><td>true</td></tr><tr><td>&quot;UTORM&quot;</td><td>&quot;snow_depth&quot;</td><td>1</td><td>false</td><td>17.78</td><td>2025-07-12 01:50:00 UTC</td><td>&quot;Millimeters&quot;</td><td>37071</td><td>&quot;I-15 @ Orem&quot;</td><td>4650.0</td><td>40.31925</td><td>-111.7267</td><td>4</td><td>&quot;UT&quot;</td><td>&quot;America/Denver&quot;</td><td>4652.2</td><td>2013-03-13 00:00:00 UTC</td><td>2025-07-12 01:20:00 UTC</td><td>false</td><td>false</td><td>false</td><td>true</td></tr></tbody></table></div>"
      ]
     },
     "execution_count": 7,
     "metadata": {},
     "output_type": "execute_result"
    }
   ],
   "execution_count": 7
  },
  {
   "metadata": {
    "ExecuteTime": {
     "end_time": "2025-07-12T02:00:51.256635Z",
     "start_time": "2025-07-12T02:00:51.252020Z"
    }
   },
   "cell_type": "code",
   "source": [
    "# we only want stid, variable, value, date_time, units\n",
    "latest_obs = latest_obs.select(\n",
    "    pl.col(\"stid\"),\n",
    "    pl.col(\"variable\"),\n",
    "    pl.col(\"value\"),\n",
    "    pl.col(\"date_time\"),\n",
    "    pl.col(\"units\")\n",
    ")\n",
    "\n",
    "latest_obs = latest_obs.with_columns(\n",
    "    pl.col(\"date_time\").dt.convert_time_zone(\"UTC\")\n",
    ").sort([\"stid\", \"date_time\"], descending=[False, True])\n",
    "\n",
    "latest_obs"
   ],
   "id": "74158ed33db3dbc9",
   "outputs": [
    {
     "data": {
      "text/plain": [
       "shape: (34, 5)\n",
       "┌───────────┬────────────────┬────────┬─────────────────────────┬─────────────┐\n",
       "│ stid      ┆ variable       ┆ value  ┆ date_time               ┆ units       │\n",
       "│ ---       ┆ ---            ┆ ---    ┆ ---                     ┆ ---         │\n",
       "│ str       ┆ str            ┆ f64    ┆ datetime[μs, UTC]       ┆ str         │\n",
       "╞═══════════╪════════════════╪════════╪═════════════════════════╪═════════════╡\n",
       "│ CLN       ┆ snow_depth     ┆ 0.0    ┆ 2025-07-12 01:00:00 UTC ┆ Millimeters │\n",
       "│ CLN       ┆ air_temp       ┆ 17.222 ┆ 2025-07-12 01:00:00 UTC ┆ Celsius     │\n",
       "│ COOPALMU1 ┆ air_temp       ┆ 26.111 ┆ 2025-07-12 01:00:00 UTC ┆ Celsius     │\n",
       "│ COOPALMU1 ┆ snow_depth     ┆ 0.0    ┆ 2025-07-12 01:00:00 UTC ┆ Millimeters │\n",
       "│ KSLC      ┆ wind_direction ┆ 350.0  ┆ 2025-07-12 01:54:00 UTC ┆ Degrees     │\n",
       "│ …         ┆ …              ┆ …      ┆ …                       ┆ …           │\n",
       "│ UTORM     ┆ wind_direction ┆ 327.3  ┆ 2025-07-12 01:50:00 UTC ┆ Degrees     │\n",
       "│ UTORM     ┆ snow_depth     ┆ 17.78  ┆ 2025-07-12 01:50:00 UTC ┆ Millimeters │\n",
       "│ UTSTV     ┆ wind_speed     ┆ 6.94   ┆ 2025-07-12 01:50:00 UTC ┆ m/s         │\n",
       "│ UTSTV     ┆ air_temp       ┆ 28.833 ┆ 2025-07-12 01:50:00 UTC ┆ Celsius     │\n",
       "│ UTSTV     ┆ wind_direction ┆ 293.3  ┆ 2025-07-12 01:50:00 UTC ┆ Degrees     │\n",
       "└───────────┴────────────────┴────────┴─────────────────────────┴─────────────┘"
      ],
      "text/html": [
       "<div><style>\n",
       ".dataframe > thead > tr,\n",
       ".dataframe > tbody > tr {\n",
       "  text-align: right;\n",
       "  white-space: pre-wrap;\n",
       "}\n",
       "</style>\n",
       "<small>shape: (34, 5)</small><table border=\"1\" class=\"dataframe\"><thead><tr><th>stid</th><th>variable</th><th>value</th><th>date_time</th><th>units</th></tr><tr><td>str</td><td>str</td><td>f64</td><td>datetime[μs, UTC]</td><td>str</td></tr></thead><tbody><tr><td>&quot;CLN&quot;</td><td>&quot;snow_depth&quot;</td><td>0.0</td><td>2025-07-12 01:00:00 UTC</td><td>&quot;Millimeters&quot;</td></tr><tr><td>&quot;CLN&quot;</td><td>&quot;air_temp&quot;</td><td>17.222</td><td>2025-07-12 01:00:00 UTC</td><td>&quot;Celsius&quot;</td></tr><tr><td>&quot;COOPALMU1&quot;</td><td>&quot;air_temp&quot;</td><td>26.111</td><td>2025-07-12 01:00:00 UTC</td><td>&quot;Celsius&quot;</td></tr><tr><td>&quot;COOPALMU1&quot;</td><td>&quot;snow_depth&quot;</td><td>0.0</td><td>2025-07-12 01:00:00 UTC</td><td>&quot;Millimeters&quot;</td></tr><tr><td>&quot;KSLC&quot;</td><td>&quot;wind_direction&quot;</td><td>350.0</td><td>2025-07-12 01:54:00 UTC</td><td>&quot;Degrees&quot;</td></tr><tr><td>&hellip;</td><td>&hellip;</td><td>&hellip;</td><td>&hellip;</td><td>&hellip;</td></tr><tr><td>&quot;UTORM&quot;</td><td>&quot;wind_direction&quot;</td><td>327.3</td><td>2025-07-12 01:50:00 UTC</td><td>&quot;Degrees&quot;</td></tr><tr><td>&quot;UTORM&quot;</td><td>&quot;snow_depth&quot;</td><td>17.78</td><td>2025-07-12 01:50:00 UTC</td><td>&quot;Millimeters&quot;</td></tr><tr><td>&quot;UTSTV&quot;</td><td>&quot;wind_speed&quot;</td><td>6.94</td><td>2025-07-12 01:50:00 UTC</td><td>&quot;m/s&quot;</td></tr><tr><td>&quot;UTSTV&quot;</td><td>&quot;air_temp&quot;</td><td>28.833</td><td>2025-07-12 01:50:00 UTC</td><td>&quot;Celsius&quot;</td></tr><tr><td>&quot;UTSTV&quot;</td><td>&quot;wind_direction&quot;</td><td>293.3</td><td>2025-07-12 01:50:00 UTC</td><td>&quot;Degrees&quot;</td></tr></tbody></table></div>"
      ]
     },
     "execution_count": 8,
     "metadata": {},
     "output_type": "execute_result"
    }
   ],
   "execution_count": 8
  },
  {
   "metadata": {
    "ExecuteTime": {
     "end_time": "2025-07-12T02:00:51.321294Z",
     "start_time": "2025-07-12T02:00:51.318622Z"
    }
   },
   "cell_type": "code",
   "source": [
    "def clean_dataframe_for_json(df):\n",
    "    # If the dataframe is a Polars dataframe, convert it to Pandas.\n",
    "    if hasattr(df, \"to_pandas\"):\n",
    "        df = df.to_pandas()\n",
    "\n",
    "    # Replace NaN with None to become proper JSON null.\n",
    "    df = df.where(pd.notnull(df), None)\n",
    "\n",
    "    # Clean string columns (remove unnecessary quotes).\n",
    "    for col in df.select_dtypes(include=['object']):\n",
    "        df[col] = df[col].str.strip('\"')\n",
    "\n",
    "    return df\n",
    "\n",
    "def export_data(df, filename, orient='records'):\n",
    "    df = clean_dataframe_for_json(df)\n",
    "\n",
    "    # Export to JSON.\n",
    "    with open(filename, 'w') as f:\n",
    "        json.dump(df.to_dict(orient=orient), f, default=str)\n",
    "\n",
    "    print(f\"Exported {len(df)} records to {filename}\")\n",
    "    return"
   ],
   "id": "31cf6f05b79bfe9f",
   "outputs": [],
   "execution_count": 9
  },
  {
   "metadata": {
    "ExecuteTime": {
     "end_time": "2025-07-12T02:00:51.557137Z",
     "start_time": "2025-07-12T02:00:51.396259Z"
    }
   },
   "cell_type": "code",
   "source": [
    "export_data(latest_obs, \"../data/df_obs_test.json\")\n",
    "\n",
    "# I might create one for a subsample (random) or subset by station, etc\n",
    "# Operationally on UBAIR site, we want  obs for map stations in last hour"
   ],
   "id": "8338681ee0816dfc",
   "outputs": [
    {
     "ename": "FileNotFoundError",
     "evalue": "[Errno 2] No such file or directory: '../data/df_obs_test.json'",
     "output_type": "error",
     "traceback": [
      "\u001B[31m---------------------------------------------------------------------------\u001B[39m",
      "\u001B[31mFileNotFoundError\u001B[39m                         Traceback (most recent call last)",
      "\u001B[36mCell\u001B[39m\u001B[36m \u001B[39m\u001B[32mIn[10]\u001B[39m\u001B[32m, line 1\u001B[39m\n\u001B[32m----> \u001B[39m\u001B[32m1\u001B[39m \u001B[43mexport_data\u001B[49m\u001B[43m(\u001B[49m\u001B[43mlatest_obs\u001B[49m\u001B[43m,\u001B[49m\u001B[43m \u001B[49m\u001B[33;43m\"\u001B[39;49m\u001B[33;43m../data/df_obs_test.json\u001B[39;49m\u001B[33;43m\"\u001B[39;49m\u001B[43m)\u001B[49m\n\u001B[32m      3\u001B[39m \u001B[38;5;66;03m# I might create one for a subsample (random) or subset by station, etc\u001B[39;00m\n\u001B[32m      4\u001B[39m \u001B[38;5;66;03m# Operationally on UBAIR site, we want  obs for map stations in last hour\u001B[39;00m\n",
      "\u001B[36mCell\u001B[39m\u001B[36m \u001B[39m\u001B[32mIn[9]\u001B[39m\u001B[32m, line 19\u001B[39m, in \u001B[36mexport_data\u001B[39m\u001B[34m(df, filename, orient)\u001B[39m\n\u001B[32m     16\u001B[39m df = clean_dataframe_for_json(df)\n\u001B[32m     18\u001B[39m \u001B[38;5;66;03m# Export to JSON.\u001B[39;00m\n\u001B[32m---> \u001B[39m\u001B[32m19\u001B[39m \u001B[38;5;28;01mwith\u001B[39;00m \u001B[38;5;28;43mopen\u001B[39;49m\u001B[43m(\u001B[49m\u001B[43mfilename\u001B[49m\u001B[43m,\u001B[49m\u001B[43m \u001B[49m\u001B[33;43m'\u001B[39;49m\u001B[33;43mw\u001B[39;49m\u001B[33;43m'\u001B[39;49m\u001B[43m)\u001B[49m \u001B[38;5;28;01mas\u001B[39;00m f:\n\u001B[32m     20\u001B[39m     json.dump(df.to_dict(orient=orient), f, default=\u001B[38;5;28mstr\u001B[39m)\n\u001B[32m     22\u001B[39m \u001B[38;5;28mprint\u001B[39m(\u001B[33mf\u001B[39m\u001B[33m\"\u001B[39m\u001B[33mExported \u001B[39m\u001B[38;5;132;01m{\u001B[39;00m\u001B[38;5;28mlen\u001B[39m(df)\u001B[38;5;132;01m}\u001B[39;00m\u001B[33m records to \u001B[39m\u001B[38;5;132;01m{\u001B[39;00mfilename\u001B[38;5;132;01m}\u001B[39;00m\u001B[33m\"\u001B[39m)\n",
      "\u001B[36mFile \u001B[39m\u001B[32m~/anaconda3/envs/brc-tools-polars/lib/python3.12/site-packages/IPython/core/interactiveshell.py:327\u001B[39m, in \u001B[36m_modified_open\u001B[39m\u001B[34m(file, *args, **kwargs)\u001B[39m\n\u001B[32m    320\u001B[39m \u001B[38;5;28;01mif\u001B[39;00m file \u001B[38;5;129;01min\u001B[39;00m {\u001B[32m0\u001B[39m, \u001B[32m1\u001B[39m, \u001B[32m2\u001B[39m}:\n\u001B[32m    321\u001B[39m     \u001B[38;5;28;01mraise\u001B[39;00m \u001B[38;5;167;01mValueError\u001B[39;00m(\n\u001B[32m    322\u001B[39m         \u001B[33mf\u001B[39m\u001B[33m\"\u001B[39m\u001B[33mIPython won\u001B[39m\u001B[33m'\u001B[39m\u001B[33mt let you open fd=\u001B[39m\u001B[38;5;132;01m{\u001B[39;00mfile\u001B[38;5;132;01m}\u001B[39;00m\u001B[33m by default \u001B[39m\u001B[33m\"\u001B[39m\n\u001B[32m    323\u001B[39m         \u001B[33m\"\u001B[39m\u001B[33mas it is likely to crash IPython. If you know what you are doing, \u001B[39m\u001B[33m\"\u001B[39m\n\u001B[32m    324\u001B[39m         \u001B[33m\"\u001B[39m\u001B[33myou can use builtins\u001B[39m\u001B[33m'\u001B[39m\u001B[33m open.\u001B[39m\u001B[33m\"\u001B[39m\n\u001B[32m    325\u001B[39m     )\n\u001B[32m--> \u001B[39m\u001B[32m327\u001B[39m \u001B[38;5;28;01mreturn\u001B[39;00m \u001B[43mio_open\u001B[49m\u001B[43m(\u001B[49m\u001B[43mfile\u001B[49m\u001B[43m,\u001B[49m\u001B[43m \u001B[49m\u001B[43m*\u001B[49m\u001B[43margs\u001B[49m\u001B[43m,\u001B[49m\u001B[43m \u001B[49m\u001B[43m*\u001B[49m\u001B[43m*\u001B[49m\u001B[43mkwargs\u001B[49m\u001B[43m)\u001B[49m\n",
      "\u001B[31mFileNotFoundError\u001B[39m: [Errno 2] No such file or directory: '../data/df_obs_test.json'"
     ]
    }
   ],
   "execution_count": 10
  },
  {
   "metadata": {},
   "cell_type": "code",
   "source": "",
   "id": "583d166b1303e50c",
   "outputs": [],
   "execution_count": null
  },
  {
   "metadata": {},
   "cell_type": "markdown",
   "source": "## Visuals",
   "id": "306be9f1cbbe75f"
  },
  {
   "metadata": {},
   "cell_type": "code",
   "source": [
    "# Plot snow depth for each station over time\n",
    "# Each station has a different reporting frequency and/or time, so plot independently\n",
    "# All stations are in Mountain Time Zone\n",
    "\n",
    "\n",
    "\n",
    "fig, ax = plt.subplots(figsize=(12, 6))\n",
    "for stid in stid_list:\n",
    "    # Skips here\n",
    "    # if stid in (\"KSLC\",):\n",
    "\n",
    "    # Plus for plot zooming\n",
    "    if stid in (\"KSLC\",\"UTCOP\",\"CLN\"):\n",
    "        continue\n",
    "\n",
    "    if stid.startswith(\"COOP\"):\n",
    "        ks = None\n",
    "        # But the snow 24h variable has 0.51 cm while depth has zero! It was cold!\n",
    "    else:\n",
    "        ks = 51\n",
    "    plot_snow_depth(ax, df_data, stid, kernel_size=ks)\n",
    "\n",
    "ax.set_xlabel(\"Time\")\n",
    "ax.set_ylabel(_VRBLS[\"snow\"][\"label\"])\n",
    "ax.set_title(\"Case study 2024/2025: high ozone in UB\")\n",
    "\n",
    "# Light grey background\n",
    "ax.set_facecolor(\"#f0f0f0\")\n",
    "\n",
    "ax.legend()\n",
    "ax.grid(False)\n",
    "plt.show()"
   ],
   "id": "853fa1a4bb638842",
   "outputs": [],
   "execution_count": null
  }
 ],
 "metadata": {
  "kernelspec": {
   "display_name": "Python 3",
   "language": "python",
   "name": "python3"
  },
  "language_info": {
   "codemirror_mode": {
    "name": "ipython",
    "version": 2
   },
   "file_extension": ".py",
   "mimetype": "text/x-python",
   "name": "python",
   "nbconvert_exporter": "python",
   "pygments_lexer": "ipython2",
   "version": "2.7.6"
  }
 },
 "nbformat": 4,
 "nbformat_minor": 5
}
